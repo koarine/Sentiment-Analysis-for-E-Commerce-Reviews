{
 "cells": [
  {
   "cell_type": "markdown",
   "metadata": {},
   "source": [
    "# **Importing required modules**\n",
    "* pip install pandas\n",
    "* pip install torch\n",
    "* pip install sklearn\n",
    "* pip install transformers\n",
    "* pip install textblob"
   ]
  },
  {
   "cell_type": "code",
   "execution_count": 98,
   "metadata": {},
   "outputs": [],
   "source": [
    "import pandas as pd\n",
    "import torch\n",
    "from sklearn.model_selection import train_test_split\n",
    "from sklearn.metrics import accuracy_score, precision_recall_fscore_support\n",
    "from transformers import BertTokenizer, BertForSequenceClassification, Trainer, TrainingArguments\n",
    "from textblob import TextBlob "
   ]
  },
  {
   "cell_type": "markdown",
   "metadata": {},
   "source": [
    "### **Importing file**\n",
    "* Change directory in read_json to file location on your pc"
   ]
  },
  {
   "cell_type": "code",
   "execution_count": 84,
   "metadata": {},
   "outputs": [
    {
     "ename": "FileNotFoundError",
     "evalue": "File C:/Users/koari/OneDrive/Desktop/IE4483 Proj/train.json does not exist",
     "output_type": "error",
     "traceback": [
      "\u001b[1;31m---------------------------------------------------------------------------\u001b[0m",
      "\u001b[1;31mFileNotFoundError\u001b[0m                         Traceback (most recent call last)",
      "Cell \u001b[1;32mIn[84], line 1\u001b[0m\n\u001b[1;32m----> 1\u001b[0m training_data \u001b[38;5;241m=\u001b[39m \u001b[43mpd\u001b[49m\u001b[38;5;241;43m.\u001b[39;49m\u001b[43mread_json\u001b[49m\u001b[43m(\u001b[49m\u001b[38;5;124;43m'\u001b[39;49m\u001b[38;5;124;43mC:/Users/koari/OneDrive/Desktop/IE4483 Proj/train.json\u001b[39;49m\u001b[38;5;124;43m'\u001b[39;49m\u001b[43m)\u001b[49m\n\u001b[0;32m      2\u001b[0m training_data \u001b[38;5;241m=\u001b[39m pd\u001b[38;5;241m.\u001b[39mDataFrame(training_data)\n",
      "File \u001b[1;32mc:\\Users\\chuac_pvtupth\\AppData\\Local\\Programs\\Python\\Python311\\Lib\\site-packages\\pandas\\io\\json\\_json.py:780\u001b[0m, in \u001b[0;36mread_json\u001b[1;34m(path_or_buf, orient, typ, dtype, convert_axes, convert_dates, keep_default_dates, precise_float, date_unit, encoding, encoding_errors, lines, chunksize, compression, nrows, storage_options, dtype_backend, engine)\u001b[0m\n\u001b[0;32m    777\u001b[0m \u001b[38;5;28;01mif\u001b[39;00m convert_axes \u001b[38;5;129;01mis\u001b[39;00m \u001b[38;5;28;01mNone\u001b[39;00m \u001b[38;5;129;01mand\u001b[39;00m orient \u001b[38;5;241m!=\u001b[39m \u001b[38;5;124m\"\u001b[39m\u001b[38;5;124mtable\u001b[39m\u001b[38;5;124m\"\u001b[39m:\n\u001b[0;32m    778\u001b[0m     convert_axes \u001b[38;5;241m=\u001b[39m \u001b[38;5;28;01mTrue\u001b[39;00m\n\u001b[1;32m--> 780\u001b[0m json_reader \u001b[38;5;241m=\u001b[39m \u001b[43mJsonReader\u001b[49m\u001b[43m(\u001b[49m\n\u001b[0;32m    781\u001b[0m \u001b[43m    \u001b[49m\u001b[43mpath_or_buf\u001b[49m\u001b[43m,\u001b[49m\n\u001b[0;32m    782\u001b[0m \u001b[43m    \u001b[49m\u001b[43morient\u001b[49m\u001b[38;5;241;43m=\u001b[39;49m\u001b[43morient\u001b[49m\u001b[43m,\u001b[49m\n\u001b[0;32m    783\u001b[0m \u001b[43m    \u001b[49m\u001b[43mtyp\u001b[49m\u001b[38;5;241;43m=\u001b[39;49m\u001b[43mtyp\u001b[49m\u001b[43m,\u001b[49m\n\u001b[0;32m    784\u001b[0m \u001b[43m    \u001b[49m\u001b[43mdtype\u001b[49m\u001b[38;5;241;43m=\u001b[39;49m\u001b[43mdtype\u001b[49m\u001b[43m,\u001b[49m\n\u001b[0;32m    785\u001b[0m \u001b[43m    \u001b[49m\u001b[43mconvert_axes\u001b[49m\u001b[38;5;241;43m=\u001b[39;49m\u001b[43mconvert_axes\u001b[49m\u001b[43m,\u001b[49m\n\u001b[0;32m    786\u001b[0m \u001b[43m    \u001b[49m\u001b[43mconvert_dates\u001b[49m\u001b[38;5;241;43m=\u001b[39;49m\u001b[43mconvert_dates\u001b[49m\u001b[43m,\u001b[49m\n\u001b[0;32m    787\u001b[0m \u001b[43m    \u001b[49m\u001b[43mkeep_default_dates\u001b[49m\u001b[38;5;241;43m=\u001b[39;49m\u001b[43mkeep_default_dates\u001b[49m\u001b[43m,\u001b[49m\n\u001b[0;32m    788\u001b[0m \u001b[43m    \u001b[49m\u001b[43mprecise_float\u001b[49m\u001b[38;5;241;43m=\u001b[39;49m\u001b[43mprecise_float\u001b[49m\u001b[43m,\u001b[49m\n\u001b[0;32m    789\u001b[0m \u001b[43m    \u001b[49m\u001b[43mdate_unit\u001b[49m\u001b[38;5;241;43m=\u001b[39;49m\u001b[43mdate_unit\u001b[49m\u001b[43m,\u001b[49m\n\u001b[0;32m    790\u001b[0m \u001b[43m    \u001b[49m\u001b[43mencoding\u001b[49m\u001b[38;5;241;43m=\u001b[39;49m\u001b[43mencoding\u001b[49m\u001b[43m,\u001b[49m\n\u001b[0;32m    791\u001b[0m \u001b[43m    \u001b[49m\u001b[43mlines\u001b[49m\u001b[38;5;241;43m=\u001b[39;49m\u001b[43mlines\u001b[49m\u001b[43m,\u001b[49m\n\u001b[0;32m    792\u001b[0m \u001b[43m    \u001b[49m\u001b[43mchunksize\u001b[49m\u001b[38;5;241;43m=\u001b[39;49m\u001b[43mchunksize\u001b[49m\u001b[43m,\u001b[49m\n\u001b[0;32m    793\u001b[0m \u001b[43m    \u001b[49m\u001b[43mcompression\u001b[49m\u001b[38;5;241;43m=\u001b[39;49m\u001b[43mcompression\u001b[49m\u001b[43m,\u001b[49m\n\u001b[0;32m    794\u001b[0m \u001b[43m    \u001b[49m\u001b[43mnrows\u001b[49m\u001b[38;5;241;43m=\u001b[39;49m\u001b[43mnrows\u001b[49m\u001b[43m,\u001b[49m\n\u001b[0;32m    795\u001b[0m \u001b[43m    \u001b[49m\u001b[43mstorage_options\u001b[49m\u001b[38;5;241;43m=\u001b[39;49m\u001b[43mstorage_options\u001b[49m\u001b[43m,\u001b[49m\n\u001b[0;32m    796\u001b[0m \u001b[43m    \u001b[49m\u001b[43mencoding_errors\u001b[49m\u001b[38;5;241;43m=\u001b[39;49m\u001b[43mencoding_errors\u001b[49m\u001b[43m,\u001b[49m\n\u001b[0;32m    797\u001b[0m \u001b[43m    \u001b[49m\u001b[43mdtype_backend\u001b[49m\u001b[38;5;241;43m=\u001b[39;49m\u001b[43mdtype_backend\u001b[49m\u001b[43m,\u001b[49m\n\u001b[0;32m    798\u001b[0m \u001b[43m    \u001b[49m\u001b[43mengine\u001b[49m\u001b[38;5;241;43m=\u001b[39;49m\u001b[43mengine\u001b[49m\u001b[43m,\u001b[49m\n\u001b[0;32m    799\u001b[0m \u001b[43m\u001b[49m\u001b[43m)\u001b[49m\n\u001b[0;32m    801\u001b[0m \u001b[38;5;28;01mif\u001b[39;00m chunksize:\n\u001b[0;32m    802\u001b[0m     \u001b[38;5;28;01mreturn\u001b[39;00m json_reader\n",
      "File \u001b[1;32mc:\\Users\\chuac_pvtupth\\AppData\\Local\\Programs\\Python\\Python311\\Lib\\site-packages\\pandas\\io\\json\\_json.py:893\u001b[0m, in \u001b[0;36mJsonReader.__init__\u001b[1;34m(self, filepath_or_buffer, orient, typ, dtype, convert_axes, convert_dates, keep_default_dates, precise_float, date_unit, encoding, lines, chunksize, compression, nrows, storage_options, encoding_errors, dtype_backend, engine)\u001b[0m\n\u001b[0;32m    891\u001b[0m     \u001b[38;5;28mself\u001b[39m\u001b[38;5;241m.\u001b[39mdata \u001b[38;5;241m=\u001b[39m filepath_or_buffer\n\u001b[0;32m    892\u001b[0m \u001b[38;5;28;01melif\u001b[39;00m \u001b[38;5;28mself\u001b[39m\u001b[38;5;241m.\u001b[39mengine \u001b[38;5;241m==\u001b[39m \u001b[38;5;124m\"\u001b[39m\u001b[38;5;124mujson\u001b[39m\u001b[38;5;124m\"\u001b[39m:\n\u001b[1;32m--> 893\u001b[0m     data \u001b[38;5;241m=\u001b[39m \u001b[38;5;28;43mself\u001b[39;49m\u001b[38;5;241;43m.\u001b[39;49m\u001b[43m_get_data_from_filepath\u001b[49m\u001b[43m(\u001b[49m\u001b[43mfilepath_or_buffer\u001b[49m\u001b[43m)\u001b[49m\n\u001b[0;32m    894\u001b[0m     \u001b[38;5;28mself\u001b[39m\u001b[38;5;241m.\u001b[39mdata \u001b[38;5;241m=\u001b[39m \u001b[38;5;28mself\u001b[39m\u001b[38;5;241m.\u001b[39m_preprocess_data(data)\n",
      "File \u001b[1;32mc:\\Users\\chuac_pvtupth\\AppData\\Local\\Programs\\Python\\Python311\\Lib\\site-packages\\pandas\\io\\json\\_json.py:949\u001b[0m, in \u001b[0;36mJsonReader._get_data_from_filepath\u001b[1;34m(self, filepath_or_buffer)\u001b[0m\n\u001b[0;32m    941\u001b[0m     filepath_or_buffer \u001b[38;5;241m=\u001b[39m \u001b[38;5;28mself\u001b[39m\u001b[38;5;241m.\u001b[39mhandles\u001b[38;5;241m.\u001b[39mhandle\n\u001b[0;32m    942\u001b[0m \u001b[38;5;28;01melif\u001b[39;00m (\n\u001b[0;32m    943\u001b[0m     \u001b[38;5;28misinstance\u001b[39m(filepath_or_buffer, \u001b[38;5;28mstr\u001b[39m)\n\u001b[0;32m    944\u001b[0m     \u001b[38;5;129;01mand\u001b[39;00m filepath_or_buffer\u001b[38;5;241m.\u001b[39mlower()\u001b[38;5;241m.\u001b[39mendswith(\n\u001b[1;32m   (...)\u001b[0m\n\u001b[0;32m    947\u001b[0m     \u001b[38;5;129;01mand\u001b[39;00m \u001b[38;5;129;01mnot\u001b[39;00m file_exists(filepath_or_buffer)\n\u001b[0;32m    948\u001b[0m ):\n\u001b[1;32m--> 949\u001b[0m     \u001b[38;5;28;01mraise\u001b[39;00m \u001b[38;5;167;01mFileNotFoundError\u001b[39;00m(\u001b[38;5;124mf\u001b[39m\u001b[38;5;124m\"\u001b[39m\u001b[38;5;124mFile \u001b[39m\u001b[38;5;132;01m{\u001b[39;00mfilepath_or_buffer\u001b[38;5;132;01m}\u001b[39;00m\u001b[38;5;124m does not exist\u001b[39m\u001b[38;5;124m\"\u001b[39m)\n\u001b[0;32m    950\u001b[0m \u001b[38;5;28;01melse\u001b[39;00m:\n\u001b[0;32m    951\u001b[0m     warnings\u001b[38;5;241m.\u001b[39mwarn(\n\u001b[0;32m    952\u001b[0m         \u001b[38;5;124m\"\u001b[39m\u001b[38;5;124mPassing literal json to \u001b[39m\u001b[38;5;124m'\u001b[39m\u001b[38;5;124mread_json\u001b[39m\u001b[38;5;124m'\u001b[39m\u001b[38;5;124m is deprecated and \u001b[39m\u001b[38;5;124m\"\u001b[39m\n\u001b[0;32m    953\u001b[0m         \u001b[38;5;124m\"\u001b[39m\u001b[38;5;124mwill be removed in a future version. To read from a \u001b[39m\u001b[38;5;124m\"\u001b[39m\n\u001b[1;32m   (...)\u001b[0m\n\u001b[0;32m    956\u001b[0m         stacklevel\u001b[38;5;241m=\u001b[39mfind_stack_level(),\n\u001b[0;32m    957\u001b[0m     )\n",
      "\u001b[1;31mFileNotFoundError\u001b[0m: File C:/Users/koari/OneDrive/Desktop/IE4483 Proj/train.json does not exist"
     ]
    }
   ],
   "source": [
    "training_data = pd.read_json('C:/Users/koari/OneDrive/Desktop/IE4483 Proj/train.json')\n",
    "training_data = pd.DataFrame(training_data)"
   ]
  },
  {
   "cell_type": "markdown",
   "metadata": {},
   "source": [
    "# **Cleaning Training Data**"
   ]
  },
  {
   "cell_type": "markdown",
   "metadata": {},
   "source": [
    "### **Checking that there are no None values in 'Reviews' or 'Sentiment' Column**\n",
    "* Output shows that there are no None values"
   ]
  },
  {
   "cell_type": "code",
   "execution_count": null,
   "metadata": {},
   "outputs": [],
   "source": [
    "training_data.isnull().sum() "
   ]
  },
  {
   "cell_type": "markdown",
   "metadata": {},
   "source": [
    "### **Checking that there are no duplicate data in the training dataset**\n",
    "* Output shows there are 216 instances of duplicate data"
   ]
  },
  {
   "cell_type": "code",
   "execution_count": null,
   "metadata": {},
   "outputs": [],
   "source": [
    "training_data.duplicated().sum()"
   ]
  },
  {
   "cell_type": "markdown",
   "metadata": {},
   "source": [
    "### **Removing duplicate data from training dataset**"
   ]
  },
  {
   "cell_type": "code",
   "execution_count": null,
   "metadata": {},
   "outputs": [],
   "source": [
    "training_data=training_data.drop_duplicates()"
   ]
  },
  {
   "cell_type": "markdown",
   "metadata": {},
   "source": [
    "### **Checking and correcting simple spelling mistakes**\n",
    "* IE : (Reccomend -> Recommend)\n",
    "* **WARNING: TAKES VERY LONG TO RUN (30 mins++)** "
   ]
  },
  {
   "cell_type": "code",
   "execution_count": null,
   "metadata": {},
   "outputs": [
    {
     "ename": "NameError",
     "evalue": "name 'training_data' is not defined",
     "output_type": "error",
     "traceback": [
      "\u001b[1;31m---------------------------------------------------------------------------\u001b[0m",
      "\u001b[1;31mNameError\u001b[0m                                 Traceback (most recent call last)",
      "Cell \u001b[1;32mIn[3], line 4\u001b[0m\n\u001b[0;32m      1\u001b[0m \u001b[38;5;28;01mdef\u001b[39;00m \u001b[38;5;21mcorrected_spelling\u001b[39m(text):\n\u001b[0;32m      2\u001b[0m     \u001b[38;5;28;01mreturn\u001b[39;00m \u001b[38;5;28mstr\u001b[39m(TextBlob(text)\u001b[38;5;241m.\u001b[39mcorrect())\n\u001b[1;32m----> 4\u001b[0m training_data[\u001b[38;5;124m'\u001b[39m\u001b[38;5;124mreviews\u001b[39m\u001b[38;5;124m'\u001b[39m]\u001b[38;5;241m=\u001b[39m\u001b[43mtraining_data\u001b[49m[\u001b[38;5;124m'\u001b[39m\u001b[38;5;124mreviews\u001b[39m\u001b[38;5;124m'\u001b[39m]\u001b[38;5;241m.\u001b[39mapply(corrected_spelling)\n\u001b[0;32m      5\u001b[0m training_data\u001b[38;5;241m.\u001b[39mto_json(path_or_buf\u001b[38;5;241m=\u001b[39m\u001b[38;5;124m'\u001b[39m\u001b[38;5;124mC:/Users/koari/OneDrive/Desktop/IE4483 Proj/cleaned_train.json\u001b[39m\u001b[38;5;124m'\u001b[39m, orient\u001b[38;5;241m=\u001b[39m\u001b[38;5;124m'\u001b[39m\u001b[38;5;124mrecords\u001b[39m\u001b[38;5;124m'\u001b[39m,lines\u001b[38;5;241m=\u001b[39m\u001b[38;5;28;01mTrue\u001b[39;00m) \u001b[38;5;66;03m# Save point\u001b[39;00m\n",
      "\u001b[1;31mNameError\u001b[0m: name 'training_data' is not defined"
     ]
    }
   ],
   "source": [
    "def corrected_spelling(text):\n",
    "    return str(TextBlob(text).correct())\n",
    "\n",
    "training_data['reviews']=training_data['reviews'].apply(corrected_spelling)\n",
    "training_data.to_json(path_or_buf='C:/Users/koari/OneDrive/Desktop/IE4483 Proj/cleaned_train.json', orient='records',lines=True) # Save point"
   ]
  },
  {
   "cell_type": "markdown",
   "metadata": {},
   "source": [
    "### **Start here if you do not want to re-preprocess data**\n",
    "* Loads saved pre-processed data"
   ]
  },
  {
   "cell_type": "code",
   "execution_count": 123,
   "metadata": {},
   "outputs": [],
   "source": [
    "training_data=pd.read_json('cleaned_train.json',lines=True)\n",
    "training_data=pd.DataFrame(training_data)"
   ]
  },
  {
   "cell_type": "markdown",
   "metadata": {},
   "source": [
    "### **Checking for class imbalance**\n",
    "* Training data has 85% positve reviews\n",
    "* Class imbalance - impact can be reduced via class weights in training phase"
   ]
  },
  {
   "cell_type": "code",
   "execution_count": 124,
   "metadata": {},
   "outputs": [
    {
     "name": "stdout",
     "output_type": "stream",
     "text": [
      "sentiments\n",
      "1    6136\n",
      "0    1049\n",
      "Name: count, dtype: int64\n",
      "85.4062326099054 %\n"
     ]
    }
   ],
   "source": [
    "print(training_data.sentiments.value_counts())\n",
    "print(6139/(1049+6139)*100,\"%\")"
   ]
  },
  {
   "cell_type": "markdown",
   "metadata": {},
   "source": [
    "## **Splitting Training Dataset into a training dataset and testing dataset for binary sentiment classification**\n",
    "* Random Seed = 42\n",
    "* Train = 75%, Test = 25% is used but Train = 80%, Test = 20% is another possibility"
   ]
  },
  {
   "cell_type": "code",
   "execution_count": 134,
   "metadata": {},
   "outputs": [],
   "source": [
    "train_texts, test_texts, train_labels, test_labels = train_test_split(training_data['reviews'], training_data['sentiments'], test_size=0.25, random_state=42)"
   ]
  },
  {
   "cell_type": "code",
   "execution_count": 135,
   "metadata": {},
   "outputs": [],
   "source": [
    "#save as plaintext file for sentencepiece training\n",
    "\n",
    "with open('train_texts.txt', 'w', encoding='utf-8') as f:\n",
    "    for text in train_texts:\n",
    "        f.write(text + '\\n')"
   ]
  },
  {
   "cell_type": "markdown",
   "metadata": {},
   "source": [
    "## **Importing pretrained bert model and tokenizer**"
   ]
  },
  {
   "cell_type": "code",
   "execution_count": 172,
   "metadata": {},
   "outputs": [
    {
     "name": "stderr",
     "output_type": "stream",
     "text": [
      "Some weights of BertForSequenceClassification were not initialized from the model checkpoint at bert-base-uncased and are newly initialized: ['classifier.bias', 'classifier.weight']\n",
      "You should probably TRAIN this model on a down-stream task to be able to use it for predictions and inference.\n"
     ]
    }
   ],
   "source": [
    "tokenizer = BertTokenizer.from_pretrained('bert-base-uncased')\n",
    "model = BertForSequenceClassification.from_pretrained('bert-base-uncased', num_labels=2)"
   ]
  },
  {
   "cell_type": "code",
   "execution_count": 173,
   "metadata": {},
   "outputs": [],
   "source": [
    "import sentencepiece as spm\n",
    "\n",
    "#Train SentencePiece model (use your training text file)\n",
    "spm.SentencePieceTrainer.train(input='train_texts.txt', model_prefix='spm_model', vocab_size=11000)\n",
    "\n",
    "#Load trained SentencePiece model\n",
    "sp = spm.SentencePieceProcessor(model_file='spm_model.model')\n",
    "\n",
    "def tokenize_with_sentencepiece(texts, sp_model, max_length=128):\n",
    "    encodings = {\n",
    "        'input_ids': [],\n",
    "        'attention_mask': []\n",
    "    }\n",
    "    \n",
    "    for text in texts:\n",
    "        tokens = sp_model.encode(text, out_type=int) \n",
    "        \n",
    "        if len(tokens) > max_length:\n",
    "            tokens = tokens[:max_length]\n",
    "        attention_mask = [1] * len(tokens)\n",
    "        \n",
    "        \n",
    "        padding_length = max_length - len(tokens)\n",
    "        tokens += [0] * padding_length\n",
    "        attention_mask += [0] * padding_length\n",
    "        \n",
    "        encodings['input_ids'].append(tokens)\n",
    "        encodings['attention_mask'].append(attention_mask)\n",
    "    \n",
    "    \n",
    "    encodings['input_ids'] = torch.tensor(encodings['input_ids'])\n",
    "    encodings['attention_mask'] = torch.tensor(encodings['attention_mask'])\n",
    "    \n",
    "    return encodings\n",
    "\n",
    "\n",
    "train_encodings = tokenize_with_sentencepiece(train_texts, sp, max_length=128)\n",
    "test_encodings = tokenize_with_sentencepiece(test_texts, sp, max_length=128)"
   ]
  },
  {
   "cell_type": "markdown",
   "metadata": {},
   "source": [
    "### **Convert the cleaned data into a readable format for the training process using tensor**"
   ]
  },
  {
   "cell_type": "code",
   "execution_count": 174,
   "metadata": {},
   "outputs": [],
   "source": [
    "# Tokenize the reviews and convert them into BERT's input format\n",
    "# train_encodings = tokenizer(list(train_texts), truncation=True, padding=True, max_length=128)\n",
    "# test_encodings = tokenizer(list(test_texts), truncation=True, padding=True, max_length=128)\n",
    "\n",
    "# Convert the labels into torch tensors\n",
    "train_labels = torch.tensor(train_labels.tolist())\n",
    "test_labels = torch.tensor(test_labels.tolist())\n",
    "\n",
    "# Create a dataset class to load the data into PyTorch\n",
    "class SentimentDataset(torch.utils.data.Dataset):\n",
    "    def __init__(self, encodings, labels):\n",
    "        self.encodings = encodings\n",
    "        self.labels = labels\n",
    "    \n",
    "    def __len__(self):\n",
    "        return len(self.labels)\n",
    "    \n",
    "    def __getitem__(self, idx):\n",
    "        item = {key: torch.tensor(val[idx]) for key, val in self.encodings.items()}\n",
    "        item['labels'] = self.labels[idx]\n",
    "        return item\n",
    "\n",
    "train_dataset = SentimentDataset(train_encodings, train_labels)\n",
    "test_dataset = SentimentDataset(test_encodings, test_labels)"
   ]
  },
  {
   "cell_type": "code",
   "execution_count": 166,
   "metadata": {},
   "outputs": [],
   "source": [
    "import torch\n",
    "torch.cuda.empty_cache()"
   ]
  },
  {
   "cell_type": "markdown",
   "metadata": {},
   "source": [
    "## **Training Process & parameters**\n",
    "* **WARNING: THIS TAKES 1-2 HRS ON MY PC**"
   ]
  },
  {
   "cell_type": "code",
   "execution_count": null,
   "metadata": {},
   "outputs": [
    {
     "name": "stderr",
     "output_type": "stream",
     "text": [
      "  0%|          | 0/845 [00:00<?, ?it/s]C:\\Users\\chuac_pvtupth\\AppData\\Local\\Temp\\ipykernel_14044\\2724484987.py:19: UserWarning: To copy construct from a tensor, it is recommended to use sourceTensor.clone().detach() or sourceTensor.clone().detach().requires_grad_(True), rather than torch.tensor(sourceTensor).\n",
      "  item = {key: torch.tensor(val[idx]) for key, val in self.encodings.items()}\n",
      " 12%|█▏        | 100/845 [01:00<07:37,  1.63it/s]"
     ]
    },
    {
     "name": "stdout",
     "output_type": "stream",
     "text": [
      "{'loss': 0.4867, 'grad_norm': 1.3032772541046143, 'learning_rate': 6.666666666666667e-06, 'epoch': 0.59}\n"
     ]
    },
    {
     "name": "stderr",
     "output_type": "stream",
     "text": [
      "\n",
      " 12%|█▏        | 100/845 [01:12<07:37,  1.63it/s]"
     ]
    },
    {
     "name": "stdout",
     "output_type": "stream",
     "text": [
      "{'eval_loss': 0.41343218088150024, 'eval_runtime': 12.0893, 'eval_samples_per_second': 148.644, 'eval_steps_per_second': 2.399, 'epoch': 0.59}\n",
      "Evaluation loss appended: 0.41343218088150024\n",
      "Current log history: [{'loss': 0.4867, 'grad_norm': 1.3032772541046143, 'learning_rate': 6.666666666666667e-06, 'epoch': 0.591715976331361, 'step': 100}, {'eval_loss': 0.41343218088150024, 'eval_runtime': 12.0893, 'eval_samples_per_second': 148.644, 'eval_steps_per_second': 2.399, 'epoch': 0.591715976331361, 'step': 100}]\n"
     ]
    },
    {
     "name": "stderr",
     "output_type": "stream",
     "text": [
      " 24%|██▎       | 200/845 [02:15<06:39,  1.62it/s]"
     ]
    },
    {
     "name": "stdout",
     "output_type": "stream",
     "text": [
      "{'loss': 0.4123, 'grad_norm': 2.7835636138916016, 'learning_rate': 1.3333333333333333e-05, 'epoch': 1.18}\n"
     ]
    },
    {
     "name": "stderr",
     "output_type": "stream",
     "text": [
      "\n",
      " 24%|██▎       | 200/845 [02:27<06:39,  1.62it/s]"
     ]
    },
    {
     "name": "stdout",
     "output_type": "stream",
     "text": [
      "{'eval_loss': 0.41028180718421936, 'eval_runtime': 11.8254, 'eval_samples_per_second': 151.962, 'eval_steps_per_second': 2.452, 'epoch': 1.18}\n",
      "Evaluation loss appended: 0.41028180718421936\n",
      "Current log history: [{'loss': 0.4867, 'grad_norm': 1.3032772541046143, 'learning_rate': 6.666666666666667e-06, 'epoch': 0.591715976331361, 'step': 100}, {'eval_loss': 0.41343218088150024, 'eval_runtime': 12.0893, 'eval_samples_per_second': 148.644, 'eval_steps_per_second': 2.399, 'epoch': 0.591715976331361, 'step': 100}, {'loss': 0.4123, 'grad_norm': 2.7835636138916016, 'learning_rate': 1.3333333333333333e-05, 'epoch': 1.183431952662722, 'step': 200}, {'eval_loss': 0.41028180718421936, 'eval_runtime': 11.8254, 'eval_samples_per_second': 151.962, 'eval_steps_per_second': 2.452, 'epoch': 1.183431952662722, 'step': 200}]\n"
     ]
    },
    {
     "name": "stderr",
     "output_type": "stream",
     "text": [
      " 36%|███▌      | 300/845 [03:29<05:38,  1.61it/s]"
     ]
    },
    {
     "name": "stdout",
     "output_type": "stream",
     "text": [
      "{'loss': 0.4093, 'grad_norm': 2.5034873485565186, 'learning_rate': 2e-05, 'epoch': 1.78}\n"
     ]
    },
    {
     "name": "stderr",
     "output_type": "stream",
     "text": [
      "\n",
      " 36%|███▌      | 300/845 [03:41<05:38,  1.61it/s]"
     ]
    },
    {
     "name": "stdout",
     "output_type": "stream",
     "text": [
      "{'eval_loss': 0.4112837612628937, 'eval_runtime': 11.9053, 'eval_samples_per_second': 150.942, 'eval_steps_per_second': 2.436, 'epoch': 1.78}\n",
      "Evaluation loss appended: 0.4112837612628937\n",
      "Current log history: [{'loss': 0.4867, 'grad_norm': 1.3032772541046143, 'learning_rate': 6.666666666666667e-06, 'epoch': 0.591715976331361, 'step': 100}, {'eval_loss': 0.41343218088150024, 'eval_runtime': 12.0893, 'eval_samples_per_second': 148.644, 'eval_steps_per_second': 2.399, 'epoch': 0.591715976331361, 'step': 100}, {'loss': 0.4123, 'grad_norm': 2.7835636138916016, 'learning_rate': 1.3333333333333333e-05, 'epoch': 1.183431952662722, 'step': 200}, {'eval_loss': 0.41028180718421936, 'eval_runtime': 11.8254, 'eval_samples_per_second': 151.962, 'eval_steps_per_second': 2.452, 'epoch': 1.183431952662722, 'step': 200}, {'loss': 0.4093, 'grad_norm': 2.5034873485565186, 'learning_rate': 2e-05, 'epoch': 1.7751479289940828, 'step': 300}, {'eval_loss': 0.4112837612628937, 'eval_runtime': 11.9053, 'eval_samples_per_second': 150.942, 'eval_steps_per_second': 2.436, 'epoch': 1.7751479289940828, 'step': 300}]\n"
     ]
    },
    {
     "name": "stderr",
     "output_type": "stream",
     "text": [
      " 47%|████▋     | 400/845 [04:43<04:38,  1.60it/s]"
     ]
    },
    {
     "name": "stdout",
     "output_type": "stream",
     "text": [
      "{'loss': 0.3535, 'grad_norm': 19.048505783081055, 'learning_rate': 1.63302752293578e-05, 'epoch': 2.37}\n"
     ]
    },
    {
     "name": "stderr",
     "output_type": "stream",
     "text": [
      "\n",
      " 47%|████▋     | 400/845 [04:55<04:38,  1.60it/s]"
     ]
    },
    {
     "name": "stdout",
     "output_type": "stream",
     "text": [
      "{'eval_loss': 0.35368627309799194, 'eval_runtime': 12.0305, 'eval_samples_per_second': 149.371, 'eval_steps_per_second': 2.411, 'epoch': 2.37}\n",
      "Evaluation loss appended: 0.35368627309799194\n",
      "Current log history: [{'loss': 0.4867, 'grad_norm': 1.3032772541046143, 'learning_rate': 6.666666666666667e-06, 'epoch': 0.591715976331361, 'step': 100}, {'eval_loss': 0.41343218088150024, 'eval_runtime': 12.0893, 'eval_samples_per_second': 148.644, 'eval_steps_per_second': 2.399, 'epoch': 0.591715976331361, 'step': 100}, {'loss': 0.4123, 'grad_norm': 2.7835636138916016, 'learning_rate': 1.3333333333333333e-05, 'epoch': 1.183431952662722, 'step': 200}, {'eval_loss': 0.41028180718421936, 'eval_runtime': 11.8254, 'eval_samples_per_second': 151.962, 'eval_steps_per_second': 2.452, 'epoch': 1.183431952662722, 'step': 200}, {'loss': 0.4093, 'grad_norm': 2.5034873485565186, 'learning_rate': 2e-05, 'epoch': 1.7751479289940828, 'step': 300}, {'eval_loss': 0.4112837612628937, 'eval_runtime': 11.9053, 'eval_samples_per_second': 150.942, 'eval_steps_per_second': 2.436, 'epoch': 1.7751479289940828, 'step': 300}, {'loss': 0.3535, 'grad_norm': 19.048505783081055, 'learning_rate': 1.63302752293578e-05, 'epoch': 2.366863905325444, 'step': 400}, {'eval_loss': 0.35368627309799194, 'eval_runtime': 12.0305, 'eval_samples_per_second': 149.371, 'eval_steps_per_second': 2.411, 'epoch': 2.366863905325444, 'step': 400}]\n"
     ]
    },
    {
     "name": "stderr",
     "output_type": "stream",
     "text": [
      " 59%|█████▉    | 500/845 [05:58<03:36,  1.60it/s]"
     ]
    },
    {
     "name": "stdout",
     "output_type": "stream",
     "text": [
      "{'loss': 0.2988, 'grad_norm': 7.348544120788574, 'learning_rate': 1.2660550458715597e-05, 'epoch': 2.96}\n"
     ]
    },
    {
     "name": "stderr",
     "output_type": "stream",
     "text": [
      "\n",
      " 59%|█████▉    | 500/845 [06:10<03:36,  1.60it/s]"
     ]
    },
    {
     "name": "stdout",
     "output_type": "stream",
     "text": [
      "{'eval_loss': 0.35789191722869873, 'eval_runtime': 11.9872, 'eval_samples_per_second': 149.91, 'eval_steps_per_second': 2.419, 'epoch': 2.96}\n",
      "Evaluation loss appended: 0.35789191722869873\n",
      "Current log history: [{'loss': 0.4867, 'grad_norm': 1.3032772541046143, 'learning_rate': 6.666666666666667e-06, 'epoch': 0.591715976331361, 'step': 100}, {'eval_loss': 0.41343218088150024, 'eval_runtime': 12.0893, 'eval_samples_per_second': 148.644, 'eval_steps_per_second': 2.399, 'epoch': 0.591715976331361, 'step': 100}, {'loss': 0.4123, 'grad_norm': 2.7835636138916016, 'learning_rate': 1.3333333333333333e-05, 'epoch': 1.183431952662722, 'step': 200}, {'eval_loss': 0.41028180718421936, 'eval_runtime': 11.8254, 'eval_samples_per_second': 151.962, 'eval_steps_per_second': 2.452, 'epoch': 1.183431952662722, 'step': 200}, {'loss': 0.4093, 'grad_norm': 2.5034873485565186, 'learning_rate': 2e-05, 'epoch': 1.7751479289940828, 'step': 300}, {'eval_loss': 0.4112837612628937, 'eval_runtime': 11.9053, 'eval_samples_per_second': 150.942, 'eval_steps_per_second': 2.436, 'epoch': 1.7751479289940828, 'step': 300}, {'loss': 0.3535, 'grad_norm': 19.048505783081055, 'learning_rate': 1.63302752293578e-05, 'epoch': 2.366863905325444, 'step': 400}, {'eval_loss': 0.35368627309799194, 'eval_runtime': 12.0305, 'eval_samples_per_second': 149.371, 'eval_steps_per_second': 2.411, 'epoch': 2.366863905325444, 'step': 400}, {'loss': 0.2988, 'grad_norm': 7.348544120788574, 'learning_rate': 1.2660550458715597e-05, 'epoch': 2.9585798816568047, 'step': 500}, {'eval_loss': 0.35789191722869873, 'eval_runtime': 11.9872, 'eval_samples_per_second': 149.91, 'eval_steps_per_second': 2.419, 'epoch': 2.9585798816568047, 'step': 500}]\n"
     ]
    },
    {
     "name": "stderr",
     "output_type": "stream",
     "text": [
      "C:\\Users\\chuac_pvtupth\\AppData\\Local\\Temp\\ipykernel_14044\\2724484987.py:19: UserWarning: To copy construct from a tensor, it is recommended to use sourceTensor.clone().detach() or sourceTensor.clone().detach().requires_grad_(True), rather than torch.tensor(sourceTensor).\n",
      "  item = {key: torch.tensor(val[idx]) for key, val in self.encodings.items()}\n",
      " 71%|███████   | 600/845 [07:13<02:33,  1.60it/s]"
     ]
    },
    {
     "name": "stdout",
     "output_type": "stream",
     "text": [
      "{'loss': 0.2389, 'grad_norm': 28.15689468383789, 'learning_rate': 8.990825688073395e-06, 'epoch': 3.55}\n"
     ]
    },
    {
     "name": "stderr",
     "output_type": "stream",
     "text": [
      "\n",
      " 71%|███████   | 600/845 [07:25<02:33,  1.60it/s]"
     ]
    },
    {
     "name": "stdout",
     "output_type": "stream",
     "text": [
      "{'eval_loss': 0.31367969512939453, 'eval_runtime': 12.0116, 'eval_samples_per_second': 149.605, 'eval_steps_per_second': 2.414, 'epoch': 3.55}\n",
      "Evaluation loss appended: 0.31367969512939453\n",
      "Current log history: [{'loss': 0.4867, 'grad_norm': 1.3032772541046143, 'learning_rate': 6.666666666666667e-06, 'epoch': 0.591715976331361, 'step': 100}, {'eval_loss': 0.41343218088150024, 'eval_runtime': 12.0893, 'eval_samples_per_second': 148.644, 'eval_steps_per_second': 2.399, 'epoch': 0.591715976331361, 'step': 100}, {'loss': 0.4123, 'grad_norm': 2.7835636138916016, 'learning_rate': 1.3333333333333333e-05, 'epoch': 1.183431952662722, 'step': 200}, {'eval_loss': 0.41028180718421936, 'eval_runtime': 11.8254, 'eval_samples_per_second': 151.962, 'eval_steps_per_second': 2.452, 'epoch': 1.183431952662722, 'step': 200}, {'loss': 0.4093, 'grad_norm': 2.5034873485565186, 'learning_rate': 2e-05, 'epoch': 1.7751479289940828, 'step': 300}, {'eval_loss': 0.4112837612628937, 'eval_runtime': 11.9053, 'eval_samples_per_second': 150.942, 'eval_steps_per_second': 2.436, 'epoch': 1.7751479289940828, 'step': 300}, {'loss': 0.3535, 'grad_norm': 19.048505783081055, 'learning_rate': 1.63302752293578e-05, 'epoch': 2.366863905325444, 'step': 400}, {'eval_loss': 0.35368627309799194, 'eval_runtime': 12.0305, 'eval_samples_per_second': 149.371, 'eval_steps_per_second': 2.411, 'epoch': 2.366863905325444, 'step': 400}, {'loss': 0.2988, 'grad_norm': 7.348544120788574, 'learning_rate': 1.2660550458715597e-05, 'epoch': 2.9585798816568047, 'step': 500}, {'eval_loss': 0.35789191722869873, 'eval_runtime': 11.9872, 'eval_samples_per_second': 149.91, 'eval_steps_per_second': 2.419, 'epoch': 2.9585798816568047, 'step': 500}, {'loss': 0.2389, 'grad_norm': 28.15689468383789, 'learning_rate': 8.990825688073395e-06, 'epoch': 3.5502958579881656, 'step': 600}, {'eval_loss': 0.31367969512939453, 'eval_runtime': 12.0116, 'eval_samples_per_second': 149.605, 'eval_steps_per_second': 2.414, 'epoch': 3.5502958579881656, 'step': 600}]\n"
     ]
    },
    {
     "name": "stderr",
     "output_type": "stream",
     "text": [
      " 83%|████████▎ | 700/845 [08:28<01:30,  1.60it/s]"
     ]
    },
    {
     "name": "stdout",
     "output_type": "stream",
     "text": [
      "{'loss': 0.2312, 'grad_norm': 47.75052261352539, 'learning_rate': 5.3211009174311936e-06, 'epoch': 4.14}\n"
     ]
    },
    {
     "name": "stderr",
     "output_type": "stream",
     "text": [
      "\n",
      " 83%|████████▎ | 700/845 [08:40<01:30,  1.60it/s]"
     ]
    },
    {
     "name": "stdout",
     "output_type": "stream",
     "text": [
      "{'eval_loss': 0.271976500749588, 'eval_runtime': 12.0346, 'eval_samples_per_second': 149.32, 'eval_steps_per_second': 2.41, 'epoch': 4.14}\n",
      "Evaluation loss appended: 0.271976500749588\n",
      "Current log history: [{'loss': 0.4867, 'grad_norm': 1.3032772541046143, 'learning_rate': 6.666666666666667e-06, 'epoch': 0.591715976331361, 'step': 100}, {'eval_loss': 0.41343218088150024, 'eval_runtime': 12.0893, 'eval_samples_per_second': 148.644, 'eval_steps_per_second': 2.399, 'epoch': 0.591715976331361, 'step': 100}, {'loss': 0.4123, 'grad_norm': 2.7835636138916016, 'learning_rate': 1.3333333333333333e-05, 'epoch': 1.183431952662722, 'step': 200}, {'eval_loss': 0.41028180718421936, 'eval_runtime': 11.8254, 'eval_samples_per_second': 151.962, 'eval_steps_per_second': 2.452, 'epoch': 1.183431952662722, 'step': 200}, {'loss': 0.4093, 'grad_norm': 2.5034873485565186, 'learning_rate': 2e-05, 'epoch': 1.7751479289940828, 'step': 300}, {'eval_loss': 0.4112837612628937, 'eval_runtime': 11.9053, 'eval_samples_per_second': 150.942, 'eval_steps_per_second': 2.436, 'epoch': 1.7751479289940828, 'step': 300}, {'loss': 0.3535, 'grad_norm': 19.048505783081055, 'learning_rate': 1.63302752293578e-05, 'epoch': 2.366863905325444, 'step': 400}, {'eval_loss': 0.35368627309799194, 'eval_runtime': 12.0305, 'eval_samples_per_second': 149.371, 'eval_steps_per_second': 2.411, 'epoch': 2.366863905325444, 'step': 400}, {'loss': 0.2988, 'grad_norm': 7.348544120788574, 'learning_rate': 1.2660550458715597e-05, 'epoch': 2.9585798816568047, 'step': 500}, {'eval_loss': 0.35789191722869873, 'eval_runtime': 11.9872, 'eval_samples_per_second': 149.91, 'eval_steps_per_second': 2.419, 'epoch': 2.9585798816568047, 'step': 500}, {'loss': 0.2389, 'grad_norm': 28.15689468383789, 'learning_rate': 8.990825688073395e-06, 'epoch': 3.5502958579881656, 'step': 600}, {'eval_loss': 0.31367969512939453, 'eval_runtime': 12.0116, 'eval_samples_per_second': 149.605, 'eval_steps_per_second': 2.414, 'epoch': 3.5502958579881656, 'step': 600}, {'loss': 0.2312, 'grad_norm': 47.75052261352539, 'learning_rate': 5.3211009174311936e-06, 'epoch': 4.1420118343195265, 'step': 700}, {'eval_loss': 0.271976500749588, 'eval_runtime': 12.0346, 'eval_samples_per_second': 149.32, 'eval_steps_per_second': 2.41, 'epoch': 4.1420118343195265, 'step': 700}]\n"
     ]
    },
    {
     "name": "stderr",
     "output_type": "stream",
     "text": [
      " 95%|█████████▍| 800/845 [09:43<00:28,  1.59it/s]"
     ]
    },
    {
     "name": "stdout",
     "output_type": "stream",
     "text": [
      "{'loss': 0.1792, 'grad_norm': 32.35074234008789, 'learning_rate': 1.6513761467889911e-06, 'epoch': 4.73}\n"
     ]
    },
    {
     "name": "stderr",
     "output_type": "stream",
     "text": [
      "\n",
      " 95%|█████████▍| 800/845 [09:55<00:28,  1.59it/s]"
     ]
    },
    {
     "name": "stdout",
     "output_type": "stream",
     "text": [
      "{'eval_loss': 0.29913529753685, 'eval_runtime': 12.048, 'eval_samples_per_second': 149.154, 'eval_steps_per_second': 2.407, 'epoch': 4.73}\n",
      "Evaluation loss appended: 0.29913529753685\n",
      "Current log history: [{'loss': 0.4867, 'grad_norm': 1.3032772541046143, 'learning_rate': 6.666666666666667e-06, 'epoch': 0.591715976331361, 'step': 100}, {'eval_loss': 0.41343218088150024, 'eval_runtime': 12.0893, 'eval_samples_per_second': 148.644, 'eval_steps_per_second': 2.399, 'epoch': 0.591715976331361, 'step': 100}, {'loss': 0.4123, 'grad_norm': 2.7835636138916016, 'learning_rate': 1.3333333333333333e-05, 'epoch': 1.183431952662722, 'step': 200}, {'eval_loss': 0.41028180718421936, 'eval_runtime': 11.8254, 'eval_samples_per_second': 151.962, 'eval_steps_per_second': 2.452, 'epoch': 1.183431952662722, 'step': 200}, {'loss': 0.4093, 'grad_norm': 2.5034873485565186, 'learning_rate': 2e-05, 'epoch': 1.7751479289940828, 'step': 300}, {'eval_loss': 0.4112837612628937, 'eval_runtime': 11.9053, 'eval_samples_per_second': 150.942, 'eval_steps_per_second': 2.436, 'epoch': 1.7751479289940828, 'step': 300}, {'loss': 0.3535, 'grad_norm': 19.048505783081055, 'learning_rate': 1.63302752293578e-05, 'epoch': 2.366863905325444, 'step': 400}, {'eval_loss': 0.35368627309799194, 'eval_runtime': 12.0305, 'eval_samples_per_second': 149.371, 'eval_steps_per_second': 2.411, 'epoch': 2.366863905325444, 'step': 400}, {'loss': 0.2988, 'grad_norm': 7.348544120788574, 'learning_rate': 1.2660550458715597e-05, 'epoch': 2.9585798816568047, 'step': 500}, {'eval_loss': 0.35789191722869873, 'eval_runtime': 11.9872, 'eval_samples_per_second': 149.91, 'eval_steps_per_second': 2.419, 'epoch': 2.9585798816568047, 'step': 500}, {'loss': 0.2389, 'grad_norm': 28.15689468383789, 'learning_rate': 8.990825688073395e-06, 'epoch': 3.5502958579881656, 'step': 600}, {'eval_loss': 0.31367969512939453, 'eval_runtime': 12.0116, 'eval_samples_per_second': 149.605, 'eval_steps_per_second': 2.414, 'epoch': 3.5502958579881656, 'step': 600}, {'loss': 0.2312, 'grad_norm': 47.75052261352539, 'learning_rate': 5.3211009174311936e-06, 'epoch': 4.1420118343195265, 'step': 700}, {'eval_loss': 0.271976500749588, 'eval_runtime': 12.0346, 'eval_samples_per_second': 149.32, 'eval_steps_per_second': 2.41, 'epoch': 4.1420118343195265, 'step': 700}, {'loss': 0.1792, 'grad_norm': 32.35074234008789, 'learning_rate': 1.6513761467889911e-06, 'epoch': 4.733727810650888, 'step': 800}, {'eval_loss': 0.29913529753685, 'eval_runtime': 12.048, 'eval_samples_per_second': 149.154, 'eval_steps_per_second': 2.407, 'epoch': 4.733727810650888, 'step': 800}]\n"
     ]
    },
    {
     "name": "stderr",
     "output_type": "stream",
     "text": [
      "100%|██████████| 845/845 [10:25<00:00,  1.35it/s]"
     ]
    },
    {
     "name": "stdout",
     "output_type": "stream",
     "text": [
      "{'train_runtime': 625.8405, 'train_samples_per_second': 43.046, 'train_steps_per_second': 1.35, 'train_loss': 0.31869862799108384, 'epoch': 5.0}\n"
     ]
    },
    {
     "name": "stderr",
     "output_type": "stream",
     "text": [
      "\n"
     ]
    },
    {
     "data": {
      "text/plain": [
       "TrainOutput(global_step=845, training_loss=0.31869862799108384, metrics={'train_runtime': 625.8405, 'train_samples_per_second': 43.046, 'train_steps_per_second': 1.35, 'total_flos': 1772052957849600.0, 'train_loss': 0.31869862799108384, 'epoch': 5.0})"
      ]
     },
     "execution_count": 175,
     "metadata": {},
     "output_type": "execute_result"
    }
   ],
   "source": [
    "from transformers import TrainingArguments, Trainer, BertForSequenceClassification, BertTokenizer\n",
    "from transformers import TrainerCallback, EarlyStoppingCallback\n",
    "import matplotlib.pyplot as plt\n",
    "import torch\n",
    "from sklearn.metrics import accuracy_score, precision_recall_fscore_support\n",
    "import logging\n",
    "\n",
    "\n",
    "#Set up logging to a file\n",
    "logging.basicConfig(filename='training.log', level=logging.INFO, format='%(message)s')\n",
    "\n",
    "torch.cuda.empty_cache()\n",
    "\n",
    "\n",
    "# Define training arguments\n",
    "training_args = TrainingArguments(\n",
    "    output_dir='./results',          # output directory for model checkpoints\n",
    "    num_train_epochs=5,              # number of training epochs\n",
    "    learning_rate=2e-5,              # learning rate\n",
    "    per_device_train_batch_size=32,  # batch size for training\n",
    "    per_device_eval_batch_size=64,   # batch size for evaluation\n",
    "    warmup_steps=300,                # number of warmup steps for learning rate scheduler (next try 450)\n",
    "    weight_decay=0.01,               # strength of weight decay, prepare to use 0.1\n",
    "    logging_dir='./logs',            # directory for storing logs\n",
    "    logging_steps=100,\n",
    "    eval_strategy=\"steps\",\n",
    "    eval_steps=100,\n",
    "    load_best_model_at_end=True,\n",
    ")\n",
    "\n",
    "class LossLoggerCallback(TrainerCallback):\n",
    "    def __init__(self):\n",
    "        self.train_losses = []\n",
    "        self.eval_losses = []\n",
    "    \n",
    "    \n",
    "    def on_evaluate(self, args, state, control, metrics, **kwargs):\n",
    "        # Collect evaluation loss during evaluation\n",
    "        if 'eval_loss' in metrics:\n",
    "            self.eval_losses.append(metrics['eval_loss'])\n",
    "            print(f\"Evaluation loss appended: {metrics['eval_loss']}\")  # Debug print\n",
    "\n",
    "            print(\"Current log history:\", state.log_history)  # Debug print\n",
    "\n",
    "# Create the Trainer object\n",
    "loss_logger = LossLoggerCallback()\n",
    "trainer = Trainer(\n",
    "    model=model,                         # the pre-trained BERT model\n",
    "    args=training_args,                  # training arguments, defined above\n",
    "    train_dataset=train_dataset,         # training dataset\n",
    "    eval_dataset=test_dataset,           # evaluation dataset\n",
    "    callbacks=[loss_logger]              # add the custom callback\n",
    ")\n",
    "\n",
    "\n",
    "# Fine-tune the model\n",
    "trainer.train()"
   ]
  },
  {
   "cell_type": "markdown",
   "metadata": {},
   "source": [
    "## **Performing analysis on test set & Calculation of  Accuracy, Precision, Recall, F1-Score for further fine tuning**"
   ]
  },
  {
   "cell_type": "code",
   "execution_count": null,
   "metadata": {},
   "outputs": [],
   "source": [
    "train_losses = []\n",
    "steps = []\n",
    "\n",
    "for log in trainer.state.log_history:\n",
    "    if 'loss' in log:\n",
    "        train_losses.append(log['loss'])\n",
    "        steps.append(log['step'])\n",
    "\n",
    "\n",
    "train_steps = [i * 100 + 100 for i in range(len(train_losses))]  # 100 steps for each entry in train_losses\n",
    "\n",
    "eval_steps = [i * 100 + 100 for i in range(len(loss_logger.eval_losses))]  # Starts at 100 steps for eval\n",
    "\n",
    "# Plot both training and evaluation losses on the same plot\n",
    "plt.figure(figsize=(10, 6))\n",
    "\n",
    "# Plot training loss (using train_steps)\n",
    "plt.plot(train_steps, train_losses, label='Training Loss', color='blue')\n",
    "\n",
    "# Plot evaluation loss (using eval_steps)\n",
    "plt.plot(eval_steps, loss_logger.eval_losses, label='Evaluation Loss', color='orange')\n",
    "\n",
    "# Add labels and title\n",
    "plt.xlabel('Steps')\n",
    "plt.ylabel('Loss')\n",
    "plt.title('Training and Evaluation Loss Comparison')\n",
    "\n",
    "# Add a legend\n",
    "plt.legend()\n",
    "\n",
    "# Show the plot\n",
    "plt.tight_layout()\n",
    "plt.show()"
   ]
  },
  {
   "cell_type": "code",
   "execution_count": 176,
   "metadata": {},
   "outputs": [
    {
     "name": "stderr",
     "output_type": "stream",
     "text": [
      "C:\\Users\\chuac_pvtupth\\AppData\\Local\\Temp\\ipykernel_14044\\2724484987.py:19: UserWarning: To copy construct from a tensor, it is recommended to use sourceTensor.clone().detach() or sourceTensor.clone().detach().requires_grad_(True), rather than torch.tensor(sourceTensor).\n",
      "  item = {key: torch.tensor(val[idx]) for key, val in self.encodings.items()}\n",
      "100%|██████████| 29/29 [00:10<00:00,  2.66it/s]"
     ]
    },
    {
     "name": "stdout",
     "output_type": "stream",
     "text": [
      "Accuracy: 0.8759042849193099\n",
      "Precision: 0.8859494415049971\n",
      "Recall: 0.9811197916666666\n",
      "F1-score: 0.9311090515909793\n"
     ]
    },
    {
     "name": "stderr",
     "output_type": "stream",
     "text": [
      "\n"
     ]
    }
   ],
   "source": [
    "# Predict on the test dataset\n",
    "predictions = trainer.predict(test_dataset)\n",
    "\n",
    "# Get the predicted labels\n",
    "preds = torch.argmax(torch.from_numpy(predictions.predictions), axis=-1)\n",
    "\n",
    "# Calculate accuracy, precision, recall, and F1-score\n",
    "accuracy = accuracy_score(test_labels, preds)\n",
    "precision, recall, f1, _ = precision_recall_fscore_support(test_labels, preds, average='binary')\n",
    "\n",
    "print(f\"Accuracy: {accuracy}\")\n",
    "print(f\"Precision: {precision}\")\n",
    "print(f\"Recall: {recall}\")\n",
    "print(f\"F1-score: {f1}\")"
   ]
  },
  {
   "cell_type": "code",
   "execution_count": null,
   "metadata": {},
   "outputs": [
    {
     "data": {
      "image/png": "[encoded data removed]",
      "text/plain": [
       "<Figure size 1200x600 with 1 Axes>"
      ]
     },
     "metadata": {},
     "output_type": "display_data"
    }
   ],
   "source": [
    "# Plot the training loss\n",
    "plt.figure(figsize=(12, 6))\n",
    "# Plot evaluation loss\n",
    "plt.subplot(1, 2, 2)\n",
    "plt.plot(steps, train_losses, label='Training Loss')\n",
    "plt.xlabel('Logging Steps')\n",
    "plt.ylabel('Loss')\n",
    "plt.title('Training Loss During Training')\n",
    "plt.legend()\n",
    "plt.show()"
   ]
  },
  {
   "cell_type": "code",
   "execution_count": 177,
   "metadata": {},
   "outputs": [
    {
     "data": {
      "image/png": "[encoded data removed]",
      "text/plain": [
       "<Figure size 1200x600 with 1 Axes>"
      ]
     },
     "metadata": {},
     "output_type": "display_data"
    }
   ],
   "source": [
    "# Fine-tune the model\n",
    "\n",
    "# Plot the training and evaluation losses\n",
    "plt.figure(figsize=(12, 6))\n",
    "# Plot evaluation loss\n",
    "plt.subplot(1, 2, 2)\n",
    "plt.plot(loss_logger.eval_losses, label='Evaluation Loss')\n",
    "plt.xlabel('Logging Steps')\n",
    "plt.ylabel('Loss')\n",
    "plt.title('Evaluation Loss')\n",
    "plt.legend()\n",
    "\n",
    "plt.show()"
   ]
  },
  {
   "cell_type": "markdown",
   "metadata": {},
   "source": [
    "# **Save model and tokenizer**\n",
    "* **DO NOT RUN if you have not trained the model above** "
   ]
  },
  {
   "cell_type": "code",
   "execution_count": 61,
   "metadata": {},
   "outputs": [
    {
     "data": {
      "text/plain": [
       "('./ch_BERT_final_model\\\\tokenizer_config.json',\n",
       " './ch_BERT_final_model\\\\special_tokens_map.json',\n",
       " './ch_BERT_final_model\\\\vocab.txt',\n",
       " './ch_BERT_final_model\\\\added_tokens.json')"
      ]
     },
     "execution_count": 61,
     "metadata": {},
     "output_type": "execute_result"
    }
   ],
   "source": [
    "model.save_pretrained('./ch_BERT_final_model')\n",
    "tokenizer.save_pretrained('./ch_BERT_final_model')"
   ]
  },
  {
   "cell_type": "markdown",
   "metadata": {},
   "source": [
    "## **Load model and tokenizer**\n",
    "* **Start here to skip data pre-processing & model training** "
   ]
  },
  {
   "cell_type": "code",
   "execution_count": null,
   "metadata": {},
   "outputs": [],
   "source": [
    "tokenizer = BertTokenizer.from_pretrained('./BERT_final_model')\n",
    "model = BertForSequenceClassification.from_pretrained('./ch_BERT_final_model')"
   ]
  },
  {
   "cell_type": "markdown",
   "metadata": {},
   "source": [
    "# **Import test.json for prediction**"
   ]
  },
  {
   "cell_type": "code",
   "execution_count": 63,
   "metadata": {},
   "outputs": [],
   "source": [
    "prediction_data = pd.read_json('test.json')\n",
    "prediction_data = pd.DataFrame(prediction_data)"
   ]
  },
  {
   "cell_type": "markdown",
   "metadata": {},
   "source": [
    "# **Performing prediction and storing to new data frame**"
   ]
  },
  {
   "cell_type": "code",
   "execution_count": 64,
   "metadata": {},
   "outputs": [
    {
     "name": "stderr",
     "output_type": "stream",
     "text": [
      "C:\\Users\\chuac_pvtupth\\AppData\\Local\\Temp\\ipykernel_34480\\356560487.py:15: FutureWarning: Series.__getitem__ treating keys as positions is deprecated. In a future version, integer keys will always be treated as labels (consistent with DataFrame behavior). To access a value by position, use `ser.iloc[pos]`\n",
      "  prediction_list.append(predict_sentiment(prediction_data.iloc[row][0]))\n"
     ]
    }
   ],
   "source": [
    "def predict_sentiment(review):\n",
    "    # Tokenize the review\n",
    "    inputs = tokenizer(review, return_tensors=\"pt\", truncation=True, padding=True, max_length=128)\n",
    "    \n",
    "    # Perform the prediction\n",
    "    outputs = model(**inputs)\n",
    "    probs = torch.nn.functional.softmax(outputs.logits, dim=-1)\n",
    "    \n",
    "    # Return Sentiment Value (0 for negative, 1 for postive)\n",
    "    return torch.argmax(probs).item()\n",
    "\n",
    "# Stores the sentiments in a list\n",
    "prediction_list = []\n",
    "for row in range(len(prediction_data)):\n",
    "    prediction_list.append(predict_sentiment(prediction_data.iloc[row][0]))\n",
    "\n",
    "# Append the sentiment list to the a new dataframe\n",
    "finalized_prediction = prediction_data.assign(sentiment=prediction_list)"
   ]
  },
  {
   "cell_type": "markdown",
   "metadata": {},
   "source": [
    "# **Store the finalized prediction in CSV File**"
   ]
  },
  {
   "cell_type": "code",
   "execution_count": null,
   "metadata": {},
   "outputs": [],
   "source": [
    "# Save the new datafram into a json file\n",
    "finalized_prediction.to_csv(path_or_buf='BERT_sentencepiece_final_output.csv')"
   ]
  }
 ],
 "metadata": {
  "kernelspec": {
   "display_name": "Python 3",
   "language": "python",
   "name": "python3"
  },
  "language_info": {
   "codemirror_mode": {
    "name": "ipython",
    "version": 3
   },
   "file_extension": ".py",
   "mimetype": "text/x-python",
   "name": "python",
   "nbconvert_exporter": "python",
   "pygments_lexer": "ipython3",
   "version": "3.11.2"
  }
 },
 "nbformat": 4,
 "nbformat_minor": 2
}
