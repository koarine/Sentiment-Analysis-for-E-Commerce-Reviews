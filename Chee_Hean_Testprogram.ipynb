{
 "cells": [
  {
   "cell_type": "markdown",
   "metadata": {},
   "source": [
    "# **Importing required modules**\n",
    "* pip install pandas\n",
    "* pip install torch\n",
    "* pip install sklearn\n",
    "* pip install transformers\n",
    "* pip install textblob"
   ]
  },
  {
   "cell_type": "code",
   "execution_count": 1,
   "metadata": {},
   "outputs": [
    {
     "name": "stderr",
     "output_type": "stream",
     "text": [
      "c:\\Users\\chuac_pvtupth\\AppData\\Local\\Programs\\Python\\Python311\\Lib\\site-packages\\tqdm\\auto.py:21: TqdmWarning: IProgress not found. Please update jupyter and ipywidgets. See https://ipywidgets.readthedocs.io/en/stable/user_install.html\n",
      "  from .autonotebook import tqdm as notebook_tqdm\n"
     ]
    }
   ],
   "source": [
    "import pandas as pd\n",
    "import torch\n",
    "from sklearn.model_selection import train_test_split\n",
    "from sklearn.metrics import accuracy_score, precision_recall_fscore_support\n",
    "from transformers import BertTokenizer, BertForSequenceClassification, Trainer, TrainingArguments\n",
    "from textblob import TextBlob "
   ]
  },
  {
   "cell_type": "markdown",
   "metadata": {},
   "source": [
    "### **Importing file**\n",
    "* Change directory in read_json to file location on your pc"
   ]
  },
  {
   "cell_type": "code",
   "execution_count": 84,
   "metadata": {},
   "outputs": [
    {
     "ename": "FileNotFoundError",
     "evalue": "File C:/Users/koari/OneDrive/Desktop/IE4483 Proj/train.json does not exist",
     "output_type": "error",
     "traceback": [
      "\u001b[1;31m---------------------------------------------------------------------------\u001b[0m",
      "\u001b[1;31mFileNotFoundError\u001b[0m                         Traceback (most recent call last)",
      "Cell \u001b[1;32mIn[84], line 1\u001b[0m\n\u001b[1;32m----> 1\u001b[0m training_data \u001b[38;5;241m=\u001b[39m \u001b[43mpd\u001b[49m\u001b[38;5;241;43m.\u001b[39;49m\u001b[43mread_json\u001b[49m\u001b[43m(\u001b[49m\u001b[38;5;124;43m'\u001b[39;49m\u001b[38;5;124;43mC:/Users/koari/OneDrive/Desktop/IE4483 Proj/train.json\u001b[39;49m\u001b[38;5;124;43m'\u001b[39;49m\u001b[43m)\u001b[49m\n\u001b[0;32m      2\u001b[0m training_data \u001b[38;5;241m=\u001b[39m pd\u001b[38;5;241m.\u001b[39mDataFrame(training_data)\n",
      "File \u001b[1;32mc:\\Users\\chuac_pvtupth\\AppData\\Local\\Programs\\Python\\Python311\\Lib\\site-packages\\pandas\\io\\json\\_json.py:780\u001b[0m, in \u001b[0;36mread_json\u001b[1;34m(path_or_buf, orient, typ, dtype, convert_axes, convert_dates, keep_default_dates, precise_float, date_unit, encoding, encoding_errors, lines, chunksize, compression, nrows, storage_options, dtype_backend, engine)\u001b[0m\n\u001b[0;32m    777\u001b[0m \u001b[38;5;28;01mif\u001b[39;00m convert_axes \u001b[38;5;129;01mis\u001b[39;00m \u001b[38;5;28;01mNone\u001b[39;00m \u001b[38;5;129;01mand\u001b[39;00m orient \u001b[38;5;241m!=\u001b[39m \u001b[38;5;124m\"\u001b[39m\u001b[38;5;124mtable\u001b[39m\u001b[38;5;124m\"\u001b[39m:\n\u001b[0;32m    778\u001b[0m     convert_axes \u001b[38;5;241m=\u001b[39m \u001b[38;5;28;01mTrue\u001b[39;00m\n\u001b[1;32m--> 780\u001b[0m json_reader \u001b[38;5;241m=\u001b[39m \u001b[43mJsonReader\u001b[49m\u001b[43m(\u001b[49m\n\u001b[0;32m    781\u001b[0m \u001b[43m    \u001b[49m\u001b[43mpath_or_buf\u001b[49m\u001b[43m,\u001b[49m\n\u001b[0;32m    782\u001b[0m \u001b[43m    \u001b[49m\u001b[43morient\u001b[49m\u001b[38;5;241;43m=\u001b[39;49m\u001b[43morient\u001b[49m\u001b[43m,\u001b[49m\n\u001b[0;32m    783\u001b[0m \u001b[43m    \u001b[49m\u001b[43mtyp\u001b[49m\u001b[38;5;241;43m=\u001b[39;49m\u001b[43mtyp\u001b[49m\u001b[43m,\u001b[49m\n\u001b[0;32m    784\u001b[0m \u001b[43m    \u001b[49m\u001b[43mdtype\u001b[49m\u001b[38;5;241;43m=\u001b[39;49m\u001b[43mdtype\u001b[49m\u001b[43m,\u001b[49m\n\u001b[0;32m    785\u001b[0m \u001b[43m    \u001b[49m\u001b[43mconvert_axes\u001b[49m\u001b[38;5;241;43m=\u001b[39;49m\u001b[43mconvert_axes\u001b[49m\u001b[43m,\u001b[49m\n\u001b[0;32m    786\u001b[0m \u001b[43m    \u001b[49m\u001b[43mconvert_dates\u001b[49m\u001b[38;5;241;43m=\u001b[39;49m\u001b[43mconvert_dates\u001b[49m\u001b[43m,\u001b[49m\n\u001b[0;32m    787\u001b[0m \u001b[43m    \u001b[49m\u001b[43mkeep_default_dates\u001b[49m\u001b[38;5;241;43m=\u001b[39;49m\u001b[43mkeep_default_dates\u001b[49m\u001b[43m,\u001b[49m\n\u001b[0;32m    788\u001b[0m \u001b[43m    \u001b[49m\u001b[43mprecise_float\u001b[49m\u001b[38;5;241;43m=\u001b[39;49m\u001b[43mprecise_float\u001b[49m\u001b[43m,\u001b[49m\n\u001b[0;32m    789\u001b[0m \u001b[43m    \u001b[49m\u001b[43mdate_unit\u001b[49m\u001b[38;5;241;43m=\u001b[39;49m\u001b[43mdate_unit\u001b[49m\u001b[43m,\u001b[49m\n\u001b[0;32m    790\u001b[0m \u001b[43m    \u001b[49m\u001b[43mencoding\u001b[49m\u001b[38;5;241;43m=\u001b[39;49m\u001b[43mencoding\u001b[49m\u001b[43m,\u001b[49m\n\u001b[0;32m    791\u001b[0m \u001b[43m    \u001b[49m\u001b[43mlines\u001b[49m\u001b[38;5;241;43m=\u001b[39;49m\u001b[43mlines\u001b[49m\u001b[43m,\u001b[49m\n\u001b[0;32m    792\u001b[0m \u001b[43m    \u001b[49m\u001b[43mchunksize\u001b[49m\u001b[38;5;241;43m=\u001b[39;49m\u001b[43mchunksize\u001b[49m\u001b[43m,\u001b[49m\n\u001b[0;32m    793\u001b[0m \u001b[43m    \u001b[49m\u001b[43mcompression\u001b[49m\u001b[38;5;241;43m=\u001b[39;49m\u001b[43mcompression\u001b[49m\u001b[43m,\u001b[49m\n\u001b[0;32m    794\u001b[0m \u001b[43m    \u001b[49m\u001b[43mnrows\u001b[49m\u001b[38;5;241;43m=\u001b[39;49m\u001b[43mnrows\u001b[49m\u001b[43m,\u001b[49m\n\u001b[0;32m    795\u001b[0m \u001b[43m    \u001b[49m\u001b[43mstorage_options\u001b[49m\u001b[38;5;241;43m=\u001b[39;49m\u001b[43mstorage_options\u001b[49m\u001b[43m,\u001b[49m\n\u001b[0;32m    796\u001b[0m \u001b[43m    \u001b[49m\u001b[43mencoding_errors\u001b[49m\u001b[38;5;241;43m=\u001b[39;49m\u001b[43mencoding_errors\u001b[49m\u001b[43m,\u001b[49m\n\u001b[0;32m    797\u001b[0m \u001b[43m    \u001b[49m\u001b[43mdtype_backend\u001b[49m\u001b[38;5;241;43m=\u001b[39;49m\u001b[43mdtype_backend\u001b[49m\u001b[43m,\u001b[49m\n\u001b[0;32m    798\u001b[0m \u001b[43m    \u001b[49m\u001b[43mengine\u001b[49m\u001b[38;5;241;43m=\u001b[39;49m\u001b[43mengine\u001b[49m\u001b[43m,\u001b[49m\n\u001b[0;32m    799\u001b[0m \u001b[43m\u001b[49m\u001b[43m)\u001b[49m\n\u001b[0;32m    801\u001b[0m \u001b[38;5;28;01mif\u001b[39;00m chunksize:\n\u001b[0;32m    802\u001b[0m     \u001b[38;5;28;01mreturn\u001b[39;00m json_reader\n",
      "File \u001b[1;32mc:\\Users\\chuac_pvtupth\\AppData\\Local\\Programs\\Python\\Python311\\Lib\\site-packages\\pandas\\io\\json\\_json.py:893\u001b[0m, in \u001b[0;36mJsonReader.__init__\u001b[1;34m(self, filepath_or_buffer, orient, typ, dtype, convert_axes, convert_dates, keep_default_dates, precise_float, date_unit, encoding, lines, chunksize, compression, nrows, storage_options, encoding_errors, dtype_backend, engine)\u001b[0m\n\u001b[0;32m    891\u001b[0m     \u001b[38;5;28mself\u001b[39m\u001b[38;5;241m.\u001b[39mdata \u001b[38;5;241m=\u001b[39m filepath_or_buffer\n\u001b[0;32m    892\u001b[0m \u001b[38;5;28;01melif\u001b[39;00m \u001b[38;5;28mself\u001b[39m\u001b[38;5;241m.\u001b[39mengine \u001b[38;5;241m==\u001b[39m \u001b[38;5;124m\"\u001b[39m\u001b[38;5;124mujson\u001b[39m\u001b[38;5;124m\"\u001b[39m:\n\u001b[1;32m--> 893\u001b[0m     data \u001b[38;5;241m=\u001b[39m \u001b[38;5;28;43mself\u001b[39;49m\u001b[38;5;241;43m.\u001b[39;49m\u001b[43m_get_data_from_filepath\u001b[49m\u001b[43m(\u001b[49m\u001b[43mfilepath_or_buffer\u001b[49m\u001b[43m)\u001b[49m\n\u001b[0;32m    894\u001b[0m     \u001b[38;5;28mself\u001b[39m\u001b[38;5;241m.\u001b[39mdata \u001b[38;5;241m=\u001b[39m \u001b[38;5;28mself\u001b[39m\u001b[38;5;241m.\u001b[39m_preprocess_data(data)\n",
      "File \u001b[1;32mc:\\Users\\chuac_pvtupth\\AppData\\Local\\Programs\\Python\\Python311\\Lib\\site-packages\\pandas\\io\\json\\_json.py:949\u001b[0m, in \u001b[0;36mJsonReader._get_data_from_filepath\u001b[1;34m(self, filepath_or_buffer)\u001b[0m\n\u001b[0;32m    941\u001b[0m     filepath_or_buffer \u001b[38;5;241m=\u001b[39m \u001b[38;5;28mself\u001b[39m\u001b[38;5;241m.\u001b[39mhandles\u001b[38;5;241m.\u001b[39mhandle\n\u001b[0;32m    942\u001b[0m \u001b[38;5;28;01melif\u001b[39;00m (\n\u001b[0;32m    943\u001b[0m     \u001b[38;5;28misinstance\u001b[39m(filepath_or_buffer, \u001b[38;5;28mstr\u001b[39m)\n\u001b[0;32m    944\u001b[0m     \u001b[38;5;129;01mand\u001b[39;00m filepath_or_buffer\u001b[38;5;241m.\u001b[39mlower()\u001b[38;5;241m.\u001b[39mendswith(\n\u001b[1;32m   (...)\u001b[0m\n\u001b[0;32m    947\u001b[0m     \u001b[38;5;129;01mand\u001b[39;00m \u001b[38;5;129;01mnot\u001b[39;00m file_exists(filepath_or_buffer)\n\u001b[0;32m    948\u001b[0m ):\n\u001b[1;32m--> 949\u001b[0m     \u001b[38;5;28;01mraise\u001b[39;00m \u001b[38;5;167;01mFileNotFoundError\u001b[39;00m(\u001b[38;5;124mf\u001b[39m\u001b[38;5;124m\"\u001b[39m\u001b[38;5;124mFile \u001b[39m\u001b[38;5;132;01m{\u001b[39;00mfilepath_or_buffer\u001b[38;5;132;01m}\u001b[39;00m\u001b[38;5;124m does not exist\u001b[39m\u001b[38;5;124m\"\u001b[39m)\n\u001b[0;32m    950\u001b[0m \u001b[38;5;28;01melse\u001b[39;00m:\n\u001b[0;32m    951\u001b[0m     warnings\u001b[38;5;241m.\u001b[39mwarn(\n\u001b[0;32m    952\u001b[0m         \u001b[38;5;124m\"\u001b[39m\u001b[38;5;124mPassing literal json to \u001b[39m\u001b[38;5;124m'\u001b[39m\u001b[38;5;124mread_json\u001b[39m\u001b[38;5;124m'\u001b[39m\u001b[38;5;124m is deprecated and \u001b[39m\u001b[38;5;124m\"\u001b[39m\n\u001b[0;32m    953\u001b[0m         \u001b[38;5;124m\"\u001b[39m\u001b[38;5;124mwill be removed in a future version. To read from a \u001b[39m\u001b[38;5;124m\"\u001b[39m\n\u001b[1;32m   (...)\u001b[0m\n\u001b[0;32m    956\u001b[0m         stacklevel\u001b[38;5;241m=\u001b[39mfind_stack_level(),\n\u001b[0;32m    957\u001b[0m     )\n",
      "\u001b[1;31mFileNotFoundError\u001b[0m: File C:/Users/koari/OneDrive/Desktop/IE4483 Proj/train.json does not exist"
     ]
    }
   ],
   "source": [
    "training_data = pd.read_json('C:/Users/koari/OneDrive/Desktop/IE4483 Proj/train.json')\n",
    "training_data = pd.DataFrame(training_data)"
   ]
  },
  {
   "cell_type": "markdown",
   "metadata": {},
   "source": [
    "# **Cleaning Training Data**"
   ]
  },
  {
   "cell_type": "markdown",
   "metadata": {},
   "source": [
    "### **Checking that there are no None values in 'Reviews' or 'Sentiment' Column**\n",
    "* Output shows that there are no None values"
   ]
  },
  {
   "cell_type": "code",
   "execution_count": null,
   "metadata": {},
   "outputs": [],
   "source": [
    "training_data.isnull().sum() "
   ]
  },
  {
   "cell_type": "markdown",
   "metadata": {},
   "source": [
    "### **Checking that there are no duplicate data in the training dataset**\n",
    "* Output shows there are 216 instances of duplicate data"
   ]
  },
  {
   "cell_type": "code",
   "execution_count": null,
   "metadata": {},
   "outputs": [],
   "source": [
    "training_data.duplicated().sum()"
   ]
  },
  {
   "cell_type": "markdown",
   "metadata": {},
   "source": [
    "### **Removing duplicate data from training dataset**"
   ]
  },
  {
   "cell_type": "code",
   "execution_count": null,
   "metadata": {},
   "outputs": [],
   "source": [
    "training_data=training_data.drop_duplicates()"
   ]
  },
  {
   "cell_type": "markdown",
   "metadata": {},
   "source": [
    "### **Checking and correcting simple spelling mistakes**\n",
    "* IE : (Reccomend -> Recommend)\n",
    "* **WARNING: TAKES VERY LONG TO RUN (30 mins++)** "
   ]
  },
  {
   "cell_type": "code",
   "execution_count": null,
   "metadata": {},
   "outputs": [
    {
     "ename": "NameError",
     "evalue": "name 'training_data' is not defined",
     "output_type": "error",
     "traceback": [
      "\u001b[1;31m---------------------------------------------------------------------------\u001b[0m",
      "\u001b[1;31mNameError\u001b[0m                                 Traceback (most recent call last)",
      "Cell \u001b[1;32mIn[3], line 4\u001b[0m\n\u001b[0;32m      1\u001b[0m \u001b[38;5;28;01mdef\u001b[39;00m \u001b[38;5;21mcorrected_spelling\u001b[39m(text):\n\u001b[0;32m      2\u001b[0m     \u001b[38;5;28;01mreturn\u001b[39;00m \u001b[38;5;28mstr\u001b[39m(TextBlob(text)\u001b[38;5;241m.\u001b[39mcorrect())\n\u001b[1;32m----> 4\u001b[0m training_data[\u001b[38;5;124m'\u001b[39m\u001b[38;5;124mreviews\u001b[39m\u001b[38;5;124m'\u001b[39m]\u001b[38;5;241m=\u001b[39m\u001b[43mtraining_data\u001b[49m[\u001b[38;5;124m'\u001b[39m\u001b[38;5;124mreviews\u001b[39m\u001b[38;5;124m'\u001b[39m]\u001b[38;5;241m.\u001b[39mapply(corrected_spelling)\n\u001b[0;32m      5\u001b[0m training_data\u001b[38;5;241m.\u001b[39mto_json(path_or_buf\u001b[38;5;241m=\u001b[39m\u001b[38;5;124m'\u001b[39m\u001b[38;5;124mC:/Users/koari/OneDrive/Desktop/IE4483 Proj/cleaned_train.json\u001b[39m\u001b[38;5;124m'\u001b[39m, orient\u001b[38;5;241m=\u001b[39m\u001b[38;5;124m'\u001b[39m\u001b[38;5;124mrecords\u001b[39m\u001b[38;5;124m'\u001b[39m,lines\u001b[38;5;241m=\u001b[39m\u001b[38;5;28;01mTrue\u001b[39;00m) \u001b[38;5;66;03m# Save point\u001b[39;00m\n",
      "\u001b[1;31mNameError\u001b[0m: name 'training_data' is not defined"
     ]
    }
   ],
   "source": [
    "def corrected_spelling(text):\n",
    "    return str(TextBlob(text).correct())\n",
    "\n",
    "training_data['reviews']=training_data['reviews'].apply(corrected_spelling)\n",
    "training_data.to_json(path_or_buf='C:/Users/koari/OneDrive/Desktop/IE4483 Proj/cleaned_train.json', orient='records',lines=True) # Save point"
   ]
  },
  {
   "cell_type": "markdown",
   "metadata": {},
   "source": [
    "### **Start here if you do not want to re-preprocess data**\n",
    "* Loads saved pre-processed data"
   ]
  },
  {
   "cell_type": "code",
   "execution_count": 2,
   "metadata": {},
   "outputs": [],
   "source": [
    "training_data=pd.read_json('cleaned_train.json',lines=True)\n",
    "training_data=pd.DataFrame(training_data)"
   ]
  },
  {
   "cell_type": "markdown",
   "metadata": {},
   "source": [
    "### **Checking for class imbalance**\n",
    "* Training data has 85% positve reviews\n",
    "* Class imbalance - impact can be reduced via class weights in training phase"
   ]
  },
  {
   "cell_type": "code",
   "execution_count": 3,
   "metadata": {},
   "outputs": [
    {
     "name": "stdout",
     "output_type": "stream",
     "text": [
      "sentiments\n",
      "1    6136\n",
      "0    1049\n",
      "Name: count, dtype: int64\n",
      "85.4062326099054 %\n"
     ]
    }
   ],
   "source": [
    "print(training_data.sentiments.value_counts())\n",
    "print(6139/(1049+6139)*100,\"%\")"
   ]
  },
  {
   "cell_type": "markdown",
   "metadata": {},
   "source": [
    "## **Splitting Training Dataset into a training dataset and testing dataset for binary sentiment classification**\n",
    "* Random Seed = 42\n",
    "* Train = 75%, Test = 25% is used but Train = 80%, Test = 20% is another possibility"
   ]
  },
  {
   "cell_type": "code",
   "execution_count": 51,
   "metadata": {},
   "outputs": [],
   "source": [
    "train_texts, test_texts, train_labels, test_labels = train_test_split(training_data['reviews'], training_data['sentiments'], test_size=0.25, random_state=42)"
   ]
  },
  {
   "cell_type": "markdown",
   "metadata": {},
   "source": [
    "## **Importing pretrained bert model and tokenizer**"
   ]
  },
  {
   "cell_type": "code",
   "execution_count": 52,
   "metadata": {},
   "outputs": [
    {
     "name": "stderr",
     "output_type": "stream",
     "text": [
      "Some weights of BertForSequenceClassification were not initialized from the model checkpoint at bert-base-uncased and are newly initialized: ['classifier.bias', 'classifier.weight']\n",
      "You should probably TRAIN this model on a down-stream task to be able to use it for predictions and inference.\n"
     ]
    }
   ],
   "source": [
    "tokenizer = BertTokenizer.from_pretrained('bert-base-uncased')\n",
    "model = BertForSequenceClassification.from_pretrained('bert-base-uncased', num_labels=2)"
   ]
  },
  {
   "cell_type": "markdown",
   "metadata": {},
   "source": [
    "### **Convert the cleaned data into a readable format for the training process using tensor**"
   ]
  },
  {
   "cell_type": "code",
   "execution_count": 56,
   "metadata": {},
   "outputs": [],
   "source": [
    "# Tokenize the reviews and convert them into BERT's input format\n",
    "train_encodings = tokenizer(list(train_texts), truncation=True, padding=True, max_length=128)\n",
    "test_encodings = tokenizer(list(test_texts), truncation=True, padding=True, max_length=128)\n",
    "\n",
    "# Convert the labels into torch tensors\n",
    "train_labels = torch.tensor(train_labels.tolist())\n",
    "test_labels = torch.tensor(test_labels.tolist())\n",
    "\n",
    "# Create a dataset class to load the data into PyTorch\n",
    "class SentimentDataset(torch.utils.data.Dataset):\n",
    "    def __init__(self, encodings, labels):\n",
    "        self.encodings = encodings\n",
    "        self.labels = labels\n",
    "    \n",
    "    def __len__(self):\n",
    "        return len(self.labels)\n",
    "    \n",
    "    def __getitem__(self, idx):\n",
    "        item = {key: torch.tensor(val[idx]) for key, val in self.encodings.items()}\n",
    "        item['labels'] = self.labels[idx]\n",
    "        return item\n",
    "\n",
    "train_dataset = SentimentDataset(train_encodings, train_labels)\n",
    "test_dataset = SentimentDataset(test_encodings, test_labels)"
   ]
  },
  {
   "cell_type": "code",
   "execution_count": 16,
   "metadata": {},
   "outputs": [],
   "source": [
    "import torch\n",
    "torch.cuda.empty_cache()"
   ]
  },
  {
   "cell_type": "markdown",
   "metadata": {},
   "source": [
    "## **Training Process & parameters**\n",
    "* **WARNING: THIS TAKES 1-2 HRS ON MY PC**"
   ]
  },
  {
   "cell_type": "code",
   "execution_count": 53,
   "metadata": {},
   "outputs": [
    {
     "name": "stderr",
     "output_type": "stream",
     "text": [
      " 19%|█▊        | 100/540 [01:04<04:49,  1.52it/s]"
     ]
    },
    {
     "name": "stdout",
     "output_type": "stream",
     "text": [
      "{'loss': 0.5193, 'grad_norm': 3.619032859802246, 'learning_rate': 4.000000000000001e-06, 'epoch': 0.56}\n"
     ]
    },
    {
     "name": "stderr",
     "output_type": "stream",
     "text": [
      "\n",
      " 19%|█▊        | 100/540 [01:15<04:49,  1.52it/s]"
     ]
    },
    {
     "name": "stdout",
     "output_type": "stream",
     "text": [
      "{'eval_loss': 0.38946935534477234, 'eval_runtime': 10.0978, 'eval_samples_per_second': 142.309, 'eval_steps_per_second': 2.278, 'epoch': 0.56}\n",
      "Evaluation loss appended: 0.38946935534477234\n",
      "Current log history: [{'loss': 0.5193, 'grad_norm': 3.619032859802246, 'learning_rate': 4.000000000000001e-06, 'epoch': 0.5555555555555556, 'step': 100}, {'eval_loss': 0.38946935534477234, 'eval_runtime': 10.0978, 'eval_samples_per_second': 142.309, 'eval_steps_per_second': 2.278, 'epoch': 0.5555555555555556, 'step': 100}]\n"
     ]
    },
    {
     "name": "stderr",
     "output_type": "stream",
     "text": [
      " 37%|███▋      | 200/540 [02:21<03:47,  1.50it/s]"
     ]
    },
    {
     "name": "stdout",
     "output_type": "stream",
     "text": [
      "{'loss': 0.2697, 'grad_norm': 5.551860332489014, 'learning_rate': 8.000000000000001e-06, 'epoch': 1.11}\n"
     ]
    },
    {
     "name": "stderr",
     "output_type": "stream",
     "text": [
      "\n",
      " 37%|███▋      | 200/540 [02:31<03:47,  1.50it/s]"
     ]
    },
    {
     "name": "stdout",
     "output_type": "stream",
     "text": [
      "{'eval_loss': 0.17193549871444702, 'eval_runtime': 10.3038, 'eval_samples_per_second': 139.463, 'eval_steps_per_second': 2.232, 'epoch': 1.11}\n",
      "Evaluation loss appended: 0.17193549871444702\n",
      "Current log history: [{'loss': 0.5193, 'grad_norm': 3.619032859802246, 'learning_rate': 4.000000000000001e-06, 'epoch': 0.5555555555555556, 'step': 100}, {'eval_loss': 0.38946935534477234, 'eval_runtime': 10.0978, 'eval_samples_per_second': 142.309, 'eval_steps_per_second': 2.278, 'epoch': 0.5555555555555556, 'step': 100}, {'loss': 0.2697, 'grad_norm': 5.551860332489014, 'learning_rate': 8.000000000000001e-06, 'epoch': 1.1111111111111112, 'step': 200}, {'eval_loss': 0.17193549871444702, 'eval_runtime': 10.3038, 'eval_samples_per_second': 139.463, 'eval_steps_per_second': 2.232, 'epoch': 1.1111111111111112, 'step': 200}]\n"
     ]
    },
    {
     "name": "stderr",
     "output_type": "stream",
     "text": [
      " 56%|█████▌    | 300/540 [03:38<02:39,  1.50it/s]"
     ]
    },
    {
     "name": "stdout",
     "output_type": "stream",
     "text": [
      "{'loss': 0.1578, 'grad_norm': 14.105040550231934, 'learning_rate': 1.2e-05, 'epoch': 1.67}\n"
     ]
    },
    {
     "name": "stderr",
     "output_type": "stream",
     "text": [
      "                                                 \n",
      " 56%|█████▌    | 300/540 [03:48<02:39,  1.50it/s]"
     ]
    },
    {
     "name": "stdout",
     "output_type": "stream",
     "text": [
      "{'eval_loss': 0.1782170534133911, 'eval_runtime': 10.285, 'eval_samples_per_second': 139.718, 'eval_steps_per_second': 2.236, 'epoch': 1.67}\n",
      "Evaluation loss appended: 0.1782170534133911\n",
      "Current log history: [{'loss': 0.5193, 'grad_norm': 3.619032859802246, 'learning_rate': 4.000000000000001e-06, 'epoch': 0.5555555555555556, 'step': 100}, {'eval_loss': 0.38946935534477234, 'eval_runtime': 10.0978, 'eval_samples_per_second': 142.309, 'eval_steps_per_second': 2.278, 'epoch': 0.5555555555555556, 'step': 100}, {'loss': 0.2697, 'grad_norm': 5.551860332489014, 'learning_rate': 8.000000000000001e-06, 'epoch': 1.1111111111111112, 'step': 200}, {'eval_loss': 0.17193549871444702, 'eval_runtime': 10.3038, 'eval_samples_per_second': 139.463, 'eval_steps_per_second': 2.232, 'epoch': 1.1111111111111112, 'step': 200}, {'loss': 0.1578, 'grad_norm': 14.105040550231934, 'learning_rate': 1.2e-05, 'epoch': 1.6666666666666665, 'step': 300}, {'eval_loss': 0.1782170534133911, 'eval_runtime': 10.285, 'eval_samples_per_second': 139.718, 'eval_steps_per_second': 2.236, 'epoch': 1.6666666666666665, 'step': 300}]\n"
     ]
    },
    {
     "name": "stderr",
     "output_type": "stream",
     "text": [
      " 74%|███████▍  | 400/540 [04:55<01:34,  1.49it/s]"
     ]
    },
    {
     "name": "stdout",
     "output_type": "stream",
     "text": [
      "{'loss': 0.1399, 'grad_norm': 6.869294166564941, 'learning_rate': 1.6000000000000003e-05, 'epoch': 2.22}\n"
     ]
    },
    {
     "name": "stderr",
     "output_type": "stream",
     "text": [
      "\n",
      " 74%|███████▍  | 400/540 [05:05<01:34,  1.49it/s]"
     ]
    },
    {
     "name": "stdout",
     "output_type": "stream",
     "text": [
      "{'eval_loss': 0.1850305199623108, 'eval_runtime': 10.3304, 'eval_samples_per_second': 139.104, 'eval_steps_per_second': 2.226, 'epoch': 2.22}\n",
      "Evaluation loss appended: 0.1850305199623108\n",
      "Current log history: [{'loss': 0.5193, 'grad_norm': 3.619032859802246, 'learning_rate': 4.000000000000001e-06, 'epoch': 0.5555555555555556, 'step': 100}, {'eval_loss': 0.38946935534477234, 'eval_runtime': 10.0978, 'eval_samples_per_second': 142.309, 'eval_steps_per_second': 2.278, 'epoch': 0.5555555555555556, 'step': 100}, {'loss': 0.2697, 'grad_norm': 5.551860332489014, 'learning_rate': 8.000000000000001e-06, 'epoch': 1.1111111111111112, 'step': 200}, {'eval_loss': 0.17193549871444702, 'eval_runtime': 10.3038, 'eval_samples_per_second': 139.463, 'eval_steps_per_second': 2.232, 'epoch': 1.1111111111111112, 'step': 200}, {'loss': 0.1578, 'grad_norm': 14.105040550231934, 'learning_rate': 1.2e-05, 'epoch': 1.6666666666666665, 'step': 300}, {'eval_loss': 0.1782170534133911, 'eval_runtime': 10.285, 'eval_samples_per_second': 139.718, 'eval_steps_per_second': 2.236, 'epoch': 1.6666666666666665, 'step': 300}, {'loss': 0.1399, 'grad_norm': 6.869294166564941, 'learning_rate': 1.6000000000000003e-05, 'epoch': 2.2222222222222223, 'step': 400}, {'eval_loss': 0.1850305199623108, 'eval_runtime': 10.3304, 'eval_samples_per_second': 139.104, 'eval_steps_per_second': 2.226, 'epoch': 2.2222222222222223, 'step': 400}]\n"
     ]
    },
    {
     "name": "stderr",
     "output_type": "stream",
     "text": [
      " 93%|█████████▎| 500/540 [06:13<00:26,  1.48it/s]"
     ]
    },
    {
     "name": "stdout",
     "output_type": "stream",
     "text": [
      "{'loss': 0.103, 'grad_norm': 5.913818359375, 'learning_rate': 2e-05, 'epoch': 2.78}\n"
     ]
    },
    {
     "name": "stderr",
     "output_type": "stream",
     "text": [
      "\n",
      " 93%|█████████▎| 500/540 [06:23<00:26,  1.48it/s]"
     ]
    },
    {
     "name": "stdout",
     "output_type": "stream",
     "text": [
      "{'eval_loss': 0.18244986236095428, 'eval_runtime': 10.4439, 'eval_samples_per_second': 137.593, 'eval_steps_per_second': 2.202, 'epoch': 2.78}\n",
      "Evaluation loss appended: 0.18244986236095428\n",
      "Current log history: [{'loss': 0.5193, 'grad_norm': 3.619032859802246, 'learning_rate': 4.000000000000001e-06, 'epoch': 0.5555555555555556, 'step': 100}, {'eval_loss': 0.38946935534477234, 'eval_runtime': 10.0978, 'eval_samples_per_second': 142.309, 'eval_steps_per_second': 2.278, 'epoch': 0.5555555555555556, 'step': 100}, {'loss': 0.2697, 'grad_norm': 5.551860332489014, 'learning_rate': 8.000000000000001e-06, 'epoch': 1.1111111111111112, 'step': 200}, {'eval_loss': 0.17193549871444702, 'eval_runtime': 10.3038, 'eval_samples_per_second': 139.463, 'eval_steps_per_second': 2.232, 'epoch': 1.1111111111111112, 'step': 200}, {'loss': 0.1578, 'grad_norm': 14.105040550231934, 'learning_rate': 1.2e-05, 'epoch': 1.6666666666666665, 'step': 300}, {'eval_loss': 0.1782170534133911, 'eval_runtime': 10.285, 'eval_samples_per_second': 139.718, 'eval_steps_per_second': 2.236, 'epoch': 1.6666666666666665, 'step': 300}, {'loss': 0.1399, 'grad_norm': 6.869294166564941, 'learning_rate': 1.6000000000000003e-05, 'epoch': 2.2222222222222223, 'step': 400}, {'eval_loss': 0.1850305199623108, 'eval_runtime': 10.3304, 'eval_samples_per_second': 139.104, 'eval_steps_per_second': 2.226, 'epoch': 2.2222222222222223, 'step': 400}, {'loss': 0.103, 'grad_norm': 5.913818359375, 'learning_rate': 2e-05, 'epoch': 2.7777777777777777, 'step': 500}, {'eval_loss': 0.18244986236095428, 'eval_runtime': 10.4439, 'eval_samples_per_second': 137.593, 'eval_steps_per_second': 2.202, 'epoch': 2.7777777777777777, 'step': 500}]\n"
     ]
    },
    {
     "name": "stderr",
     "output_type": "stream",
     "text": [
      "100%|██████████| 540/540 [06:53<00:00,  1.30it/s]"
     ]
    },
    {
     "name": "stdout",
     "output_type": "stream",
     "text": [
      "{'train_runtime': 413.8244, 'train_samples_per_second': 41.67, 'train_steps_per_second': 1.305, 'train_loss': 0.22753495022102638, 'epoch': 3.0}\n"
     ]
    },
    {
     "name": "stderr",
     "output_type": "stream",
     "text": [
      "\n"
     ]
    },
    {
     "data": {
      "text/plain": [
       "TrainOutput(global_step=540, training_loss=0.22753495022102638, metrics={'train_runtime': 413.8244, 'train_samples_per_second': 41.67, 'train_steps_per_second': 1.305, 'total_flos': 1134271759656960.0, 'train_loss': 0.22753495022102638, 'epoch': 3.0})"
      ]
     },
     "execution_count": 53,
     "metadata": {},
     "output_type": "execute_result"
    }
   ],
   "source": [
    "from transformers import TrainingArguments, Trainer, BertForSequenceClassification, BertTokenizer\n",
    "from transformers import TrainerCallback, EarlyStoppingCallback\n",
    "import matplotlib.pyplot as plt\n",
    "import torch\n",
    "from sklearn.metrics import accuracy_score, precision_recall_fscore_support\n",
    "import logging\n",
    "\n",
    "\n",
    "#Set up logging to a file\n",
    "logging.basicConfig(filename='training.log', level=logging.INFO, format='%(message)s')\n",
    "\n",
    "torch.cuda.empty_cache()\n",
    "\n",
    "\n",
    "# Define training arguments (i might use an algorithm to determine best hyperparameters from an array of values)\n",
    "training_args = TrainingArguments(\n",
    "    output_dir='./results',          # output directory for model checkpoints\n",
    "    num_train_epochs=3,              # number of training epochs\n",
    "    learning_rate=2e-5,              # learning rate\n",
    "    per_device_train_batch_size=32,  # batch size for training\n",
    "    per_device_eval_batch_size=64,   # batch size for evaluation\n",
    "    warmup_steps=500,                # number of warmup steps for learning rate scheduler\n",
    "    weight_decay=0.1,               # strength of weight decay, prepare to use 0.1\n",
    "    logging_dir='./logs',            # directory for storing logs\n",
    "    logging_steps=100,\n",
    "    eval_strategy=\"steps\",\n",
    "    eval_steps=100,\n",
    "    load_best_model_at_end=True,\n",
    ")\n",
    "\n",
    "class LossLoggerCallback(TrainerCallback):\n",
    "    def __init__(self):\n",
    "        self.train_losses = []\n",
    "        self.eval_losses = []\n",
    "    \n",
    "    \n",
    "    def on_evaluate(self, args, state, control, metrics, **kwargs):\n",
    "        # Collect evaluation loss during evaluation\n",
    "        if 'eval_loss' in metrics:\n",
    "            self.eval_losses.append(metrics['eval_loss'])\n",
    "            print(f\"Evaluation loss appended: {metrics['eval_loss']}\")  # Debug print\n",
    "\n",
    "            print(\"Current log history:\", state.log_history)  # Debug print\n",
    "\n",
    "# Create the Trainer object\n",
    "loss_logger = LossLoggerCallback()\n",
    "trainer = Trainer(\n",
    "    model=model,                         # the pre-trained BERT model\n",
    "    args=training_args,                  # training arguments, defined above\n",
    "    train_dataset=train_dataset,         # training dataset\n",
    "    eval_dataset=test_dataset,           # evaluation dataset\n",
    "    callbacks=[loss_logger]              # add the custom callback\n",
    ")\n",
    "\n",
    "\n",
    "# Fine-tune the model\n",
    "trainer.train()"
   ]
  },
  {
   "cell_type": "code",
   "execution_count": null,
   "metadata": {},
   "outputs": [
    {
     "name": "stderr",
     "output_type": "stream",
     "text": [
      "100%|██████████| 23/23 [00:10<00:00,  2.28it/s]"
     ]
    },
    {
     "name": "stdout",
     "output_type": "stream",
     "text": [
      "Evaluation loss appended: 0.1572885811328888\n",
      "Current log history: [{'loss': 0.5012, 'grad_norm': 2.500086784362793, 'learning_rate': 1e-05, 'epoch': 0.2777777777777778, 'step': 100}, {'eval_loss': 0.39690762758255005, 'eval_runtime': 9.7546, 'eval_samples_per_second': 147.316, 'eval_steps_per_second': 2.358, 'epoch': 0.2777777777777778, 'step': 100}, {'loss': 0.2722, 'grad_norm': 7.965726375579834, 'learning_rate': 2e-05, 'epoch': 0.5555555555555556, 'step': 200}, {'eval_loss': 0.2981533408164978, 'eval_runtime': 9.9543, 'eval_samples_per_second': 144.36, 'eval_steps_per_second': 2.311, 'epoch': 0.5555555555555556, 'step': 200}, {'loss': 0.1963, 'grad_norm': 12.728821754455566, 'learning_rate': 1.6153846153846154e-05, 'epoch': 0.8333333333333334, 'step': 300}, {'eval_loss': 0.15725408494472504, 'eval_runtime': 10.1262, 'eval_samples_per_second': 141.909, 'eval_steps_per_second': 2.271, 'epoch': 0.8333333333333334, 'step': 300}, {'loss': 0.1409, 'grad_norm': 0.923308789730072, 'learning_rate': 1.230769230769231e-05, 'epoch': 1.1111111111111112, 'step': 400}, {'eval_loss': 0.17002345621585846, 'eval_runtime': 9.944, 'eval_samples_per_second': 144.509, 'eval_steps_per_second': 2.313, 'epoch': 1.1111111111111112, 'step': 400}, {'loss': 0.1109, 'grad_norm': 8.77484130859375, 'learning_rate': 8.461538461538462e-06, 'epoch': 1.3888888888888888, 'step': 500}, {'eval_loss': 0.1572885811328888, 'eval_runtime': 10.2985, 'eval_samples_per_second': 139.535, 'eval_steps_per_second': 2.233, 'epoch': 1.3888888888888888, 'step': 500}, {'loss': 0.1079, 'grad_norm': 0.8124631643295288, 'learning_rate': 4.615384615384616e-06, 'epoch': 1.6666666666666665, 'step': 600}, {'eval_loss': 0.18180879950523376, 'eval_runtime': 10.2606, 'eval_samples_per_second': 140.05, 'eval_steps_per_second': 2.242, 'epoch': 1.6666666666666665, 'step': 600}, {'loss': 0.1274, 'grad_norm': 8.358123779296875, 'learning_rate': 7.692307692307694e-07, 'epoch': 1.9444444444444444, 'step': 700}, {'eval_loss': 0.1646963655948639, 'eval_runtime': 10.2512, 'eval_samples_per_second': 140.179, 'eval_steps_per_second': 2.244, 'epoch': 1.9444444444444444, 'step': 700}, {'train_runtime': 335.6361, 'train_samples_per_second': 34.251, 'train_steps_per_second': 2.145, 'total_flos': 756181173104640.0, 'train_loss': 0.20665887064403957, 'epoch': 2.0, 'step': 720}, {'eval_loss': 0.1572885811328888, 'eval_runtime': 10.0962, 'eval_samples_per_second': 142.331, 'eval_steps_per_second': 2.278, 'epoch': 2.0, 'step': 720}]\n",
      "Best model evaluation metrics: {'eval_loss': 0.1572885811328888, 'eval_runtime': 10.0962, 'eval_samples_per_second': 142.331, 'eval_steps_per_second': 2.278, 'epoch': 2.0}\n"
     ]
    },
    {
     "name": "stderr",
     "output_type": "stream",
     "text": [
      "\n"
     ]
    }
   ],
   "source": [
    "# Evaluate the best model\n",
    "# best_model_metrics = trainer.evaluate()\n",
    "\n",
    "# Print the evaluation metrics of the best model\n",
    "# print(\"Best model evaluation metrics:\", best_model_metrics)"
   ]
  },
  {
   "cell_type": "markdown",
   "metadata": {},
   "source": [
    "## **Performing analysis on test set & Calculation of  Accuracy, Precision, Recall, F1-Score for further fine tuning**"
   ]
  },
  {
   "cell_type": "code",
   "execution_count": 57,
   "metadata": {},
   "outputs": [
    {
     "name": "stderr",
     "output_type": "stream",
     "text": [
      "100%|██████████| 29/29 [00:11<00:00,  2.54it/s]"
     ]
    },
    {
     "name": "stdout",
     "output_type": "stream",
     "text": [
      "Accuracy: 0.9532554257095158\n",
      "Precision: 0.9630102040816326\n",
      "Recall: 0.9830729166666666\n",
      "F1-score: 0.9729381443298969\n"
     ]
    },
    {
     "name": "stderr",
     "output_type": "stream",
     "text": [
      "\n"
     ]
    }
   ],
   "source": [
    "# Predict on the test dataset\n",
    "predictions = trainer.predict(test_dataset)\n",
    "\n",
    "# Get the predicted labels\n",
    "preds = torch.argmax(torch.from_numpy(predictions.predictions), axis=-1)\n",
    "\n",
    "# Calculate accuracy, precision, recall, and F1-score\n",
    "accuracy = accuracy_score(test_labels, preds)\n",
    "precision, recall, f1, _ = precision_recall_fscore_support(test_labels, preds, average='binary')\n",
    "\n",
    "print(f\"Accuracy: {accuracy}\")\n",
    "print(f\"Precision: {precision}\")\n",
    "print(f\"Recall: {recall}\")\n",
    "print(f\"F1-score: {f1}\")"
   ]
  },
  {
   "cell_type": "code",
   "execution_count": 58,
   "metadata": {},
   "outputs": [
    {
     "data": {
      "image/png": "[encoded data removed]",
      "text/plain": [
       "<Figure size 1200x600 with 1 Axes>"
      ]
     },
     "metadata": {},
     "output_type": "display_data"
    }
   ],
   "source": [
    "train_losses = []\n",
    "steps = []\n",
    "\n",
    "for log in trainer.state.log_history:\n",
    "    if 'loss' in log:\n",
    "        train_losses.append(log['loss'])\n",
    "        steps.append(log['step'])\n",
    "\n",
    "# Plot the training loss\n",
    "plt.figure(figsize=(12, 6))\n",
    "# Plot evaluation loss\n",
    "plt.subplot(1, 2, 2)\n",
    "plt.plot(steps, train_losses, label='Training Loss')\n",
    "plt.xlabel('Logging Steps')\n",
    "plt.ylabel('Loss')\n",
    "plt.title('Training Loss During Training')\n",
    "plt.legend()\n",
    "plt.show()"
   ]
  },
  {
   "cell_type": "code",
   "execution_count": 59,
   "metadata": {},
   "outputs": [
    {
     "data": {
      "image/png": "[encoded data removed]",
      "text/plain": [
       "<Figure size 1200x600 with 1 Axes>"
      ]
     },
     "metadata": {},
     "output_type": "display_data"
    }
   ],
   "source": [
    "# Fine-tune the model\n",
    "\n",
    "# Plot the training and evaluation losses\n",
    "plt.figure(figsize=(12, 6))\n",
    "# Plot evaluation loss\n",
    "plt.subplot(1, 2, 2)\n",
    "plt.plot(loss_logger.eval_losses, label='Evaluation Loss')\n",
    "plt.xlabel('Logging Steps')\n",
    "plt.ylabel('Loss')\n",
    "plt.title('Evaluation Loss')\n",
    "plt.legend()\n",
    "\n",
    "plt.show()"
   ]
  },
  {
   "cell_type": "code",
   "execution_count": 60,
   "metadata": {},
   "outputs": [
    {
     "data": {
      "image/png": "[encoded data removed]",
      "text/plain": [
       "<Figure size 1000x600 with 1 Axes>"
      ]
     },
     "metadata": {},
     "output_type": "display_data"
    }
   ],
   "source": [
    "# Create training steps as a range for the number of training losses\n",
    "# Training starts at step 0\n",
    "train_steps = [i * 100 + 100 for i in range(len(train_losses))]  # 100 steps for each entry in train_losses\n",
    "\n",
    "# Create evaluation steps, adjusting them so that they start at 0 as well\n",
    "# Assuming eval_steps increments by 100, but starts at 100 for the first evaluation point\n",
    "eval_steps = [i * 100 + 100 for i in range(len(loss_logger.eval_losses))]  # Starts at 100 steps for eval\n",
    "\n",
    "# Plot both training and evaluation losses on the same plot\n",
    "plt.figure(figsize=(10, 6))\n",
    "\n",
    "# Plot training loss (using train_steps)\n",
    "plt.plot(train_steps, train_losses, label='Training Loss', color='blue')\n",
    "\n",
    "# Plot evaluation loss (using eval_steps)\n",
    "plt.plot(eval_steps, loss_logger.eval_losses, label='Evaluation Loss', color='orange')\n",
    "\n",
    "# Add labels and title\n",
    "plt.xlabel('Steps')\n",
    "plt.ylabel('Loss')\n",
    "plt.title('Training and Evaluation Loss Comparison')\n",
    "\n",
    "# Add a legend\n",
    "plt.legend()\n",
    "\n",
    "# Show the plot\n",
    "plt.tight_layout()\n",
    "plt.show()"
   ]
  },
  {
   "cell_type": "markdown",
   "metadata": {},
   "source": [
    "# **Save model and tokenizer**\n",
    "* **DO NOT RUN if you have not trained the model above** "
   ]
  },
  {
   "cell_type": "code",
   "execution_count": 61,
   "metadata": {},
   "outputs": [
    {
     "data": {
      "text/plain": [
       "('./ch_BERT_final_model\\\\tokenizer_config.json',\n",
       " './ch_BERT_final_model\\\\special_tokens_map.json',\n",
       " './ch_BERT_final_model\\\\vocab.txt',\n",
       " './ch_BERT_final_model\\\\added_tokens.json')"
      ]
     },
     "execution_count": 61,
     "metadata": {},
     "output_type": "execute_result"
    }
   ],
   "source": [
    "model.save_pretrained('./ch_BERT_final_model')\n",
    "tokenizer.save_pretrained('./ch_BERT_final_model')"
   ]
  },
  {
   "cell_type": "markdown",
   "metadata": {},
   "source": [
    "## **Load model and tokenizer**\n",
    "* **Start here to skip data pre-processing & model training** "
   ]
  },
  {
   "cell_type": "code",
   "execution_count": 62,
   "metadata": {},
   "outputs": [],
   "source": [
    "tokenizer = BertTokenizer.from_pretrained('./ch_BERT_final_model')\n",
    "model = BertForSequenceClassification.from_pretrained('./ch_BERT_final_model')"
   ]
  },
  {
   "cell_type": "markdown",
   "metadata": {},
   "source": [
    "# **Import test.json for prediction**"
   ]
  },
  {
   "cell_type": "code",
   "execution_count": 63,
   "metadata": {},
   "outputs": [],
   "source": [
    "prediction_data = pd.read_json('test.json')\n",
    "prediction_data = pd.DataFrame(prediction_data)"
   ]
  },
  {
   "cell_type": "markdown",
   "metadata": {},
   "source": [
    "# **Performing prediction and storing to new data frame**"
   ]
  },
  {
   "cell_type": "code",
   "execution_count": 64,
   "metadata": {},
   "outputs": [
    {
     "name": "stderr",
     "output_type": "stream",
     "text": [
      "C:\\Users\\chuac_pvtupth\\AppData\\Local\\Temp\\ipykernel_34480\\356560487.py:15: FutureWarning: Series.__getitem__ treating keys as positions is deprecated. In a future version, integer keys will always be treated as labels (consistent with DataFrame behavior). To access a value by position, use `ser.iloc[pos]`\n",
      "  prediction_list.append(predict_sentiment(prediction_data.iloc[row][0]))\n"
     ]
    }
   ],
   "source": [
    "def predict_sentiment(review):\n",
    "    # Tokenize the review\n",
    "    inputs = tokenizer(review, return_tensors=\"pt\", truncation=True, padding=True, max_length=128)\n",
    "    \n",
    "    # Perform the prediction\n",
    "    outputs = model(**inputs)\n",
    "    probs = torch.nn.functional.softmax(outputs.logits, dim=-1)\n",
    "    \n",
    "    # Return Sentiment Value (0 for negative, 1 for postive)\n",
    "    return torch.argmax(probs).item()\n",
    "\n",
    "# Stores the sentiments in a list\n",
    "prediction_list = []\n",
    "for row in range(len(prediction_data)):\n",
    "    prediction_list.append(predict_sentiment(prediction_data.iloc[row][0]))\n",
    "\n",
    "# Append the sentiment list to the a new dataframe\n",
    "finalized_prediction = prediction_data.assign(sentiment=prediction_list)"
   ]
  },
  {
   "cell_type": "markdown",
   "metadata": {},
   "source": [
    "# **Store the finalized prediction in CSV File**"
   ]
  },
  {
   "cell_type": "code",
   "execution_count": 65,
   "metadata": {},
   "outputs": [],
   "source": [
    "# Save the new datafram into a json file\n",
    "finalized_prediction.to_csv(path_or_buf='ch_BERT_final_output.csv')"
   ]
  }
 ],
 "metadata": {
  "kernelspec": {
   "display_name": "Python 3",
   "language": "python",
   "name": "python3"
  },
  "language_info": {
   "codemirror_mode": {
    "name": "ipython",
    "version": 3
   },
   "file_extension": ".py",
   "mimetype": "text/x-python",
   "name": "python",
   "nbconvert_exporter": "python",
   "pygments_lexer": "ipython3",
   "version": "3.11.2"
  }
 },
 "nbformat": 4,
 "nbformat_minor": 2
}
